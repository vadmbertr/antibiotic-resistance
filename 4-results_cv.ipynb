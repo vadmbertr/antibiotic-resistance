{
 "cells": [
  {
   "cell_type": "code",
   "execution_count": 1,
   "metadata": {
    "collapsed": true,
    "pycharm": {
     "name": "#%%\n"
    }
   },
   "outputs": [],
   "source": [
    "import numpy as np"
   ]
  },
  {
   "cell_type": "code",
   "execution_count": 2,
   "outputs": [],
   "source": [
    "scores_cefta = np.load(\"results/cv/cv_scores__Ceftazidim.npy\")\n",
    "scores_cipro = np.load(\"results/cv/cv_scores__Ciprofloxacin.npy\")\n",
    "scores_colis = np.load(\"results/cv/cv_scores__Colistin.npy\")\n",
    "scores_merop = np.load(\"results/cv/cv_scores__Meropenem.npy\")\n",
    "scores_tobra = np.load(\"results/cv/cv_scores__Tobramycin.npy\")"
   ],
   "metadata": {
    "collapsed": false,
    "pycharm": {
     "name": "#%%\n"
    }
   }
  },
  {
   "cell_type": "code",
   "execution_count": 3,
   "outputs": [
    {
     "name": "stdout",
     "output_type": "stream",
     "text": [
      "(0.835204991087344, 0.09643411388737522)\n"
     ]
    },
    {
     "data": {
      "text/plain": "array([0.68716578, 0.92557932, 0.80481283, 0.95543672, 0.8030303 ])"
     },
     "execution_count": 3,
     "metadata": {},
     "output_type": "execute_result"
    }
   ],
   "source": [
    "print((scores_cefta.mean(), scores_cefta.std()))\n",
    "scores_cefta"
   ],
   "metadata": {
    "collapsed": false,
    "pycharm": {
     "name": "#%%\n"
    }
   }
  },
  {
   "cell_type": "code",
   "execution_count": 4,
   "outputs": [
    {
     "name": "stdout",
     "output_type": "stream",
     "text": [
      "(0.8832552729528537, 0.026991370384550267)\n"
     ]
    },
    {
     "data": {
      "text/plain": "array([0.875     , 0.90625   , 0.8375    , 0.88341346, 0.9141129 ])"
     },
     "execution_count": 4,
     "metadata": {},
     "output_type": "execute_result"
    }
   ],
   "source": [
    "print((scores_cipro.mean(), scores_cipro.std()))\n",
    "scores_cipro"
   ],
   "metadata": {
    "collapsed": false,
    "pycharm": {
     "name": "#%%\n"
    }
   }
  },
  {
   "cell_type": "code",
   "execution_count": 5,
   "outputs": [
    {
     "name": "stdout",
     "output_type": "stream",
     "text": [
      "(0.7977444124502948, 0.11043539331196695)\n"
     ]
    },
    {
     "data": {
      "text/plain": "array([0.59224599, 0.91087344, 0.81327986, 0.79901961, 0.87330317])"
     },
     "execution_count": 5,
     "metadata": {},
     "output_type": "execute_result"
    }
   ],
   "source": [
    "print((scores_colis.mean(), scores_colis.std()))\n",
    "scores_colis"
   ],
   "metadata": {
    "collapsed": false,
    "pycharm": {
     "name": "#%%\n"
    }
   }
  },
  {
   "cell_type": "code",
   "execution_count": 6,
   "outputs": [
    {
     "name": "stdout",
     "output_type": "stream",
     "text": [
      "(0.8979243970315398, 0.041388333825377835)\n"
     ]
    },
    {
     "data": {
      "text/plain": "array([0.88311688, 0.94434137, 0.82513915, 0.91372913, 0.92329545])"
     },
     "execution_count": 6,
     "metadata": {},
     "output_type": "execute_result"
    }
   ],
   "source": [
    "print((scores_merop.mean(), scores_merop.std()))\n",
    "scores_merop"
   ],
   "metadata": {
    "collapsed": false,
    "pycharm": {
     "name": "#%%\n"
    }
   }
  },
  {
   "cell_type": "code",
   "execution_count": 7,
   "outputs": [
    {
     "name": "stdout",
     "output_type": "stream",
     "text": [
      "(0.9509365634365634, 0.05007233906541514)\n"
     ]
    },
    {
     "data": {
      "text/plain": "array([0.87706044, 0.98181818, 0.9048951 , 0.99090909, 1.        ])"
     },
     "execution_count": 7,
     "metadata": {},
     "output_type": "execute_result"
    }
   ],
   "source": [
    "print((scores_tobra.mean(), scores_tobra.std()))\n",
    "scores_tobra"
   ],
   "metadata": {
    "collapsed": false,
    "pycharm": {
     "name": "#%%\n"
    }
   }
  }
 ],
 "metadata": {
  "kernelspec": {
   "display_name": "Python 3",
   "language": "python",
   "name": "python3"
  },
  "language_info": {
   "codemirror_mode": {
    "name": "ipython",
    "version": 2
   },
   "file_extension": ".py",
   "mimetype": "text/x-python",
   "name": "python",
   "nbconvert_exporter": "python",
   "pygments_lexer": "ipython2",
   "version": "2.7.6"
  }
 },
 "nbformat": 4,
 "nbformat_minor": 0
}