{
 "cells": [
  {
   "cell_type": "code",
   "execution_count": 3,
   "metadata": {
    "collapsed": true,
    "pycharm": {
     "name": "#%%\n"
    }
   },
   "outputs": [],
   "source": [
    "import os\n",
    "import pickle\n",
    "\n",
    "import pandas as pd\n",
    "from multipy.fdr import lsu\n",
    "import numpy as np\n",
    "from statsmodels.stats.proportion import proportions_ztest\n",
    "from statsmodels.stats.weightstats import ttest_ind"
   ]
  },
  {
   "cell_type": "code",
   "execution_count": 4,
   "outputs": [],
   "source": [
    "def read_data(data_path):\n",
    "    with open(os.path.join(data_path, \"dataset.pkl\"), \"rb\") as f:\n",
    "        data = pickle.load(f)\n",
    "        Y = data[\"pheno\"].iloc[:, 1:]\n",
    "        X_gpa = data[\"X_gpa\"]\n",
    "        X_snps = data[\"X_snps\"]\n",
    "        X_genexp = data[\"X_genexp\"]\n",
    "\n",
    "    return X_gpa, X_snps, X_genexp, Y"
   ],
   "metadata": {
    "collapsed": false,
    "pycharm": {
     "name": "#%%\n"
    }
   }
  },
  {
   "cell_type": "code",
   "execution_count": 5,
   "outputs": [],
   "source": [
    "X_gpa, X_snps, X_genexp, Y = read_data(\"\")\n",
    "y = Y[\"Colistin\"].to_numpy()"
   ],
   "metadata": {
    "collapsed": false,
    "pycharm": {
     "name": "#%%\n"
    }
   }
  },
  {
   "cell_type": "code",
   "execution_count": 6,
   "outputs": [],
   "source": [
    "res_idx = np.where(y==1)\n",
    "sens_idx = np.where(y==0)"
   ],
   "metadata": {
    "collapsed": false,
    "pycharm": {
     "name": "#%%\n"
    }
   }
  },
  {
   "cell_type": "code",
   "execution_count": 7,
   "outputs": [
    {
     "name": "stderr",
     "output_type": "stream",
     "text": [
      "/home/vadim/miniconda3/envs/app-stat/lib/python3.10/site-packages/statsmodels/stats/weightstats.py:790: RuntimeWarning: invalid value encountered in double_scalars\n",
      "  zstat = value / std\n"
     ]
    }
   ],
   "source": [
    "gpa_pval = np.apply_along_axis(lambda x: proportions_ztest((sum(x[res_idx]), sum(x[sens_idx])),\n",
    "                                                           (len(x[res_idx]), len(x[sens_idx])))[1], 0, X_gpa)"
   ],
   "metadata": {
    "collapsed": false,
    "pycharm": {
     "name": "#%%\n"
    }
   }
  },
  {
   "cell_type": "code",
   "execution_count": 10,
   "outputs": [],
   "source": [
    "snps_pval = np.apply_along_axis(lambda x: proportions_ztest((sum(x[res_idx]), sum(x[sens_idx])),\n",
    "                                                            (len(x[res_idx]), len(x[sens_idx])))[1], 0, X_snps)"
   ],
   "metadata": {
    "collapsed": false,
    "pycharm": {
     "name": "#%%\n"
    }
   }
  },
  {
   "cell_type": "code",
   "execution_count": 13,
   "outputs": [],
   "source": [
    "genexp_pval = np.apply_along_axis(lambda x: ttest_ind(x[res_idx], x[sens_idx])[1], 0, X_genexp)"
   ],
   "metadata": {
    "collapsed": false,
    "pycharm": {
     "name": "#%%\n"
    }
   }
  },
  {
   "cell_type": "code",
   "execution_count": 40,
   "outputs": [
    {
     "data": {
      "text/plain": "       # régresseurs Niveau $\\alpha$            \n               total             0.1  0.05  0.01\ngpa            16005             575   374   157\nsnps           72236            5258  3053  1233\ngenexp          6026              96    77    56",
      "text/html": "<div>\n<style scoped>\n    .dataframe tbody tr th:only-of-type {\n        vertical-align: middle;\n    }\n\n    .dataframe tbody tr th {\n        vertical-align: top;\n    }\n\n    .dataframe thead tr th {\n        text-align: left;\n    }\n</style>\n<table border=\"1\" class=\"dataframe\">\n  <thead>\n    <tr>\n      <th></th>\n      <th># régresseurs</th>\n      <th colspan=\"3\" halign=\"left\">Niveau $\\alpha$</th>\n    </tr>\n    <tr>\n      <th></th>\n      <th>total</th>\n      <th>0.1</th>\n      <th>0.05</th>\n      <th>0.01</th>\n    </tr>\n  </thead>\n  <tbody>\n    <tr>\n      <th>gpa</th>\n      <td>16005</td>\n      <td>575</td>\n      <td>374</td>\n      <td>157</td>\n    </tr>\n    <tr>\n      <th>snps</th>\n      <td>72236</td>\n      <td>5258</td>\n      <td>3053</td>\n      <td>1233</td>\n    </tr>\n    <tr>\n      <th>genexp</th>\n      <td>6026</td>\n      <td>96</td>\n      <td>77</td>\n      <td>56</td>\n    </tr>\n  </tbody>\n</table>\n</div>"
     },
     "execution_count": 40,
     "metadata": {},
     "output_type": "execute_result"
    }
   ],
   "source": [
    "columns = pd.MultiIndex.from_tuples(list(zip([\"# régresseurs\"], [\"total\"])) +\n",
    "                                    list(zip([\"Niveau $\\\\alpha$\"]*3, [.1, .05, .01])))\n",
    "df = pd.DataFrame([[len(gpa_pval), sum(lsu(gpa_pval, .1)), sum(lsu(gpa_pval, .05)), sum(lsu(gpa_pval, .01))],\n",
    "                   [len(snps_pval), sum(lsu(snps_pval, .1)), sum(lsu(snps_pval, .05)), sum(lsu(snps_pval, .01))],\n",
    "                   [len(genexp_pval), sum(lsu(genexp_pval, .1)), sum(lsu(genexp_pval, .05)), sum(lsu(genexp_pval, .01))]],\n",
    "                  index=[\"gpa\", \"snps\", \"genexp\"],\n",
    "                  columns=columns)\n",
    "df"
   ],
   "metadata": {
    "collapsed": false,
    "pycharm": {
     "name": "#%%\n"
    }
   }
  },
  {
   "cell_type": "code",
   "execution_count": 48,
   "outputs": [
    {
     "name": "stderr",
     "output_type": "stream",
     "text": [
      "/tmp/ipykernel_91518/917976342.py:1: FutureWarning: In future versions `DataFrame.to_latex` is expected to utilise the base implementation of `Styler.to_latex` for formatting and rendering. The arguments signature may therefore change. It is recommended instead to use `DataFrame.style.to_latex` which also contains additional functionality.\n",
      "  df.to_latex(buf=\"rapport/tables/mul_test.tex\",\n"
     ]
    }
   ],
   "source": [
    "df.to_latex(buf=\"rapport/tables/mul_test.tex\",\n",
    "            float_format=\"%.0f\",\n",
    "            bold_rows=True,\n",
    "            escape=True,\n",
    "            caption=\"Nombre de covariables sélectionnées pour différents niveaux $\\\\alpha$.\",\n",
    "            label=\"tab:mul_test\",\n",
    "            position=\"H\")\n",
    "with open(\"rapport/tables/mul_test.tex\", \"r\") as f:\n",
    "    text = f.read().replace(\"\\\\$\\\\textbackslash alpha\\\\$\", \"$\\\\alpha$\")\n",
    "with open(\"rapport/tables/mul_test.tex\", \"w\") as f:\n",
    "    f.write(text)"
   ],
   "metadata": {
    "collapsed": false,
    "pycharm": {
     "name": "#%%\n"
    }
   }
  }
 ],
 "metadata": {
  "kernelspec": {
   "display_name": "Python 3",
   "language": "python",
   "name": "python3"
  },
  "language_info": {
   "codemirror_mode": {
    "name": "ipython",
    "version": 2
   },
   "file_extension": ".py",
   "mimetype": "text/x-python",
   "name": "python",
   "nbconvert_exporter": "python",
   "pygments_lexer": "ipython2",
   "version": "2.7.6"
  }
 },
 "nbformat": 4,
 "nbformat_minor": 0
}