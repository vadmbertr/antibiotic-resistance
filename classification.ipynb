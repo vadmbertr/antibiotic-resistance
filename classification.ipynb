{
 "cells": [
  {
   "cell_type": "code",
   "execution_count": 1,
   "metadata": {
    "collapsed": true,
    "pycharm": {
     "name": "#%%\n"
    }
   },
   "outputs": [],
   "source": [
    "from itertools import combinations, product\n",
    "import os\n",
    "import pickle\n",
    "import warnings\n",
    "\n",
    "import joblib\n",
    "from joblib import Memory\n",
    "import numpy as np\n",
    "from sklearn.compose import ColumnTransformer\n",
    "from sklearn.decomposition import KernelPCA, TruncatedSVD\n",
    "from sklearn.dummy import DummyClassifier\n",
    "from sklearn.ensemble import AdaBoostClassifier, BaggingClassifier, ExtraTreesClassifier, \\\n",
    "    GradientBoostingClassifier, RandomForestClassifier\n",
    "from sklearn.linear_model import LogisticRegression, PassiveAggressiveClassifier, Perceptron, SGDClassifier\n",
    "from sklearn.model_selection import GridSearchCV, ParameterGrid\n",
    "from sklearn.pipeline import Pipeline\n",
    "from sklearn.preprocessing import StandardScaler\n",
    "from sklearn.svm import SVC\n",
    "\n",
    "from stability_selection import StabilitySelection"
   ]
  },
  {
   "cell_type": "code",
   "execution_count": 2,
   "outputs": [],
   "source": [
    "seed = 15\n",
    "np.random.seed(seed)\n",
    "n_jobs = joblib.cpu_count() - 1"
   ],
   "metadata": {
    "collapsed": false,
    "pycharm": {
     "name": "#%%\n"
    }
   }
  },
  {
   "cell_type": "code",
   "execution_count": 3,
   "outputs": [],
   "source": [
    "with open(\"dataset.pkl\", \"rb\") as f:\n",
    "    DATA = pickle.load(f)\n",
    "    pheno = DATA[\"pheno\"]\n",
    "    X_gpa = DATA[\"X_gpa\"]\n",
    "    X_snps = DATA[\"X_snps\"]\n",
    "    X_genexp = StandardScaler().fit_transform(DATA[\"X_genexp\"])\n",
    "X = np.concatenate([X_gpa, X_snps, X_genexp], axis=1)\n",
    "\n",
    "gpa_idx = np.arange(0, X_gpa.shape[1] - 1)\n",
    "snps_idx = np.arange(0, X_snps.shape[1] - 1) + gpa_idx[-1] + 1\n",
    "genexp_idx = np.arange(0, X_genexp.shape[1] - 1) + snps_idx[-1] + 1"
   ],
   "metadata": {
    "collapsed": false,
    "pycharm": {
     "name": "#%%\n"
    }
   }
  },
  {
   "cell_type": "markdown",
   "source": [
    "Construit un **pipeline** permettant :\n",
    "\n",
    " 1. d'appliquer d'éventuelles transformations aux matrices de régresseurs,\n",
    " 2. de procéder à une potentielle réduction de dimension, par matrice de régresseur (y compris *drop* pour ne pas sélectionner la matrice),\n",
    " 3. d'effectuer une réduction de dimension sur les matrices concaténées,\n",
    " 4. et enfin d'entrainer un classifieur.\n",
    "\n",
    "Il est ensuite possible de faire varier les combinaisons de transformations, méthodes de réduction de dimension, classifieurs ; ainsi que leurs hyper-paramètres."
   ],
   "metadata": {
    "collapsed": false,
    "pycharm": {
     "name": "#%% md\n"
    }
   }
  },
  {
   "cell_type": "code",
   "execution_count": 4,
   "outputs": [],
   "source": [
    "trans_ind = ColumnTransformer(transformers=[(\"genexp\", StandardScaler(), genexp_idx)],\n",
    "                              remainder=\"passthrough\")\n",
    "dim_red_ind = ColumnTransformer(transformers=[(\"gpa\", \"passthrough\", gpa_idx), # drop, passthrough, KernelPCA, StabSel, TruncatedSVD\n",
    "                                              (\"snps\", \"passthrough\", snps_idx), # drop, passthrough, KernelPCA, StabSel, TruncatedSVD\n",
    "                                              (\"genexp\", \"passthrough\", genexp_idx)]) # drop, passthrough, KernelPCA, StabSel, TruncatedSVD\n",
    "\n",
    "# Fitting the dimensionality reduction transformers might be expansive, so we use caching\n",
    "cachepath = \".cache\"\n",
    "if not os.path.exists(cachepath):\n",
    "    os.mkdir(cachepath)\n",
    "\n",
    "pipe = Pipeline([(\"trans_ind\", trans_ind), (\"dim_red_ind\", dim_red_ind),\n",
    "                 (\"dim_red\", \"passthrough\"), # passthrough, KernelPCA, StabSel, TruncatedSVD\n",
    "                 (\"clf\", DummyClassifier())],       # LinearDiscriminantAnalysis, QuadraticDiscriminantAnalysis, AdaBoostClassifier,\n",
    "                memory=Memory(location=cachepath))  # BaggingClassifier, ExtraTreesClassifier, GradientBoostingClassifier, RandomForestClassifier,\n",
    "                                                    # LogisticRegression, PassiveAggressiveClassifier, Perceptron, SGDClassifier, KNeighborsClassifier,\n",
    "                                                    # LinearSVC, SVC"
   ],
   "metadata": {
    "collapsed": false,
    "pycharm": {
     "name": "#%%\n"
    }
   }
  },
  {
   "cell_type": "code",
   "execution_count": 5,
   "outputs": [
    {
     "data": {
      "text/plain": "Pipeline(memory=Memory(location=.cache/joblib),\n         steps=[('trans_ind',\n                 ColumnTransformer(remainder='passthrough',\n                                   transformers=[('genexp', StandardScaler(),\n                                                  array([88239, 88240, 88241, ..., 94261, 94262, 94263]))])),\n                ('dim_red_ind',\n                 ColumnTransformer(transformers=[('gpa', 'passthrough',\n                                                  array([    0,     1,     2, ..., 16001, 16002, 16003])),\n                                                 ('snps', 'passthrough',\n                                                  array([16004, 16005, 16006, ..., 88236, 88237, 88238])),\n                                                 ('genexp', 'passthrough',\n                                                  array([88239, 88240, 88241, ..., 94261, 94262, 94263]))])),\n                ('dim_red', 'passthrough'), ('clf', DummyClassifier())])",
      "text/html": "<style>#sk-container-id-1 {color: black;background-color: white;}#sk-container-id-1 pre{padding: 0;}#sk-container-id-1 div.sk-toggleable {background-color: white;}#sk-container-id-1 label.sk-toggleable__label {cursor: pointer;display: block;width: 100%;margin-bottom: 0;padding: 0.3em;box-sizing: border-box;text-align: center;}#sk-container-id-1 label.sk-toggleable__label-arrow:before {content: \"▸\";float: left;margin-right: 0.25em;color: #696969;}#sk-container-id-1 label.sk-toggleable__label-arrow:hover:before {color: black;}#sk-container-id-1 div.sk-estimator:hover label.sk-toggleable__label-arrow:before {color: black;}#sk-container-id-1 div.sk-toggleable__content {max-height: 0;max-width: 0;overflow: hidden;text-align: left;background-color: #f0f8ff;}#sk-container-id-1 div.sk-toggleable__content pre {margin: 0.2em;color: black;border-radius: 0.25em;background-color: #f0f8ff;}#sk-container-id-1 input.sk-toggleable__control:checked~div.sk-toggleable__content {max-height: 200px;max-width: 100%;overflow: auto;}#sk-container-id-1 input.sk-toggleable__control:checked~label.sk-toggleable__label-arrow:before {content: \"▾\";}#sk-container-id-1 div.sk-estimator input.sk-toggleable__control:checked~label.sk-toggleable__label {background-color: #d4ebff;}#sk-container-id-1 div.sk-label input.sk-toggleable__control:checked~label.sk-toggleable__label {background-color: #d4ebff;}#sk-container-id-1 input.sk-hidden--visually {border: 0;clip: rect(1px 1px 1px 1px);clip: rect(1px, 1px, 1px, 1px);height: 1px;margin: -1px;overflow: hidden;padding: 0;position: absolute;width: 1px;}#sk-container-id-1 div.sk-estimator {font-family: monospace;background-color: #f0f8ff;border: 1px dotted black;border-radius: 0.25em;box-sizing: border-box;margin-bottom: 0.5em;}#sk-container-id-1 div.sk-estimator:hover {background-color: #d4ebff;}#sk-container-id-1 div.sk-parallel-item::after {content: \"\";width: 100%;border-bottom: 1px solid gray;flex-grow: 1;}#sk-container-id-1 div.sk-label:hover label.sk-toggleable__label {background-color: #d4ebff;}#sk-container-id-1 div.sk-serial::before {content: \"\";position: absolute;border-left: 1px solid gray;box-sizing: border-box;top: 0;bottom: 0;left: 50%;z-index: 0;}#sk-container-id-1 div.sk-serial {display: flex;flex-direction: column;align-items: center;background-color: white;padding-right: 0.2em;padding-left: 0.2em;position: relative;}#sk-container-id-1 div.sk-item {position: relative;z-index: 1;}#sk-container-id-1 div.sk-parallel {display: flex;align-items: stretch;justify-content: center;background-color: white;position: relative;}#sk-container-id-1 div.sk-item::before, #sk-container-id-1 div.sk-parallel-item::before {content: \"\";position: absolute;border-left: 1px solid gray;box-sizing: border-box;top: 0;bottom: 0;left: 50%;z-index: -1;}#sk-container-id-1 div.sk-parallel-item {display: flex;flex-direction: column;z-index: 1;position: relative;background-color: white;}#sk-container-id-1 div.sk-parallel-item:first-child::after {align-self: flex-end;width: 50%;}#sk-container-id-1 div.sk-parallel-item:last-child::after {align-self: flex-start;width: 50%;}#sk-container-id-1 div.sk-parallel-item:only-child::after {width: 0;}#sk-container-id-1 div.sk-dashed-wrapped {border: 1px dashed gray;margin: 0 0.4em 0.5em 0.4em;box-sizing: border-box;padding-bottom: 0.4em;background-color: white;}#sk-container-id-1 div.sk-label label {font-family: monospace;font-weight: bold;display: inline-block;line-height: 1.2em;}#sk-container-id-1 div.sk-label-container {text-align: center;}#sk-container-id-1 div.sk-container {/* jupyter's `normalize.less` sets `[hidden] { display: none; }` but bootstrap.min.css set `[hidden] { display: none !important; }` so we also need the `!important` here to be able to override the default hidden behavior on the sphinx rendered scikit-learn.org. See: https://github.com/scikit-learn/scikit-learn/issues/21755 */display: inline-block !important;position: relative;}#sk-container-id-1 div.sk-text-repr-fallback {display: none;}</style><div id=\"sk-container-id-1\" class=\"sk-top-container\"><div class=\"sk-text-repr-fallback\"><pre>Pipeline(memory=Memory(location=.cache/joblib),\n         steps=[(&#x27;trans_ind&#x27;,\n                 ColumnTransformer(remainder=&#x27;passthrough&#x27;,\n                                   transformers=[(&#x27;genexp&#x27;, StandardScaler(),\n                                                  array([88239, 88240, 88241, ..., 94261, 94262, 94263]))])),\n                (&#x27;dim_red_ind&#x27;,\n                 ColumnTransformer(transformers=[(&#x27;gpa&#x27;, &#x27;passthrough&#x27;,\n                                                  array([    0,     1,     2, ..., 16001, 16002, 16003])),\n                                                 (&#x27;snps&#x27;, &#x27;passthrough&#x27;,\n                                                  array([16004, 16005, 16006, ..., 88236, 88237, 88238])),\n                                                 (&#x27;genexp&#x27;, &#x27;passthrough&#x27;,\n                                                  array([88239, 88240, 88241, ..., 94261, 94262, 94263]))])),\n                (&#x27;dim_red&#x27;, &#x27;passthrough&#x27;), (&#x27;clf&#x27;, DummyClassifier())])</pre><b>In a Jupyter environment, please rerun this cell to show the HTML representation or trust the notebook. <br />On GitHub, the HTML representation is unable to render, please try loading this page with nbviewer.org.</b></div><div class=\"sk-container\" hidden><div class=\"sk-item sk-dashed-wrapped\"><div class=\"sk-label-container\"><div class=\"sk-label sk-toggleable\"><input class=\"sk-toggleable__control sk-hidden--visually\" id=\"sk-estimator-id-1\" type=\"checkbox\" ><label for=\"sk-estimator-id-1\" class=\"sk-toggleable__label sk-toggleable__label-arrow\">Pipeline</label><div class=\"sk-toggleable__content\"><pre>Pipeline(memory=Memory(location=.cache/joblib),\n         steps=[(&#x27;trans_ind&#x27;,\n                 ColumnTransformer(remainder=&#x27;passthrough&#x27;,\n                                   transformers=[(&#x27;genexp&#x27;, StandardScaler(),\n                                                  array([88239, 88240, 88241, ..., 94261, 94262, 94263]))])),\n                (&#x27;dim_red_ind&#x27;,\n                 ColumnTransformer(transformers=[(&#x27;gpa&#x27;, &#x27;passthrough&#x27;,\n                                                  array([    0,     1,     2, ..., 16001, 16002, 16003])),\n                                                 (&#x27;snps&#x27;, &#x27;passthrough&#x27;,\n                                                  array([16004, 16005, 16006, ..., 88236, 88237, 88238])),\n                                                 (&#x27;genexp&#x27;, &#x27;passthrough&#x27;,\n                                                  array([88239, 88240, 88241, ..., 94261, 94262, 94263]))])),\n                (&#x27;dim_red&#x27;, &#x27;passthrough&#x27;), (&#x27;clf&#x27;, DummyClassifier())])</pre></div></div></div><div class=\"sk-serial\"><div class=\"sk-item sk-dashed-wrapped\"><div class=\"sk-label-container\"><div class=\"sk-label sk-toggleable\"><input class=\"sk-toggleable__control sk-hidden--visually\" id=\"sk-estimator-id-2\" type=\"checkbox\" ><label for=\"sk-estimator-id-2\" class=\"sk-toggleable__label sk-toggleable__label-arrow\">trans_ind: ColumnTransformer</label><div class=\"sk-toggleable__content\"><pre>ColumnTransformer(remainder=&#x27;passthrough&#x27;,\n                  transformers=[(&#x27;genexp&#x27;, StandardScaler(),\n                                 array([88239, 88240, 88241, ..., 94261, 94262, 94263]))])</pre></div></div></div><div class=\"sk-parallel\"><div class=\"sk-parallel-item\"><div class=\"sk-item\"><div class=\"sk-label-container\"><div class=\"sk-label sk-toggleable\"><input class=\"sk-toggleable__control sk-hidden--visually\" id=\"sk-estimator-id-3\" type=\"checkbox\" ><label for=\"sk-estimator-id-3\" class=\"sk-toggleable__label sk-toggleable__label-arrow\">genexp</label><div class=\"sk-toggleable__content\"><pre>[88239 88240 88241 ... 94261 94262 94263]</pre></div></div></div><div class=\"sk-serial\"><div class=\"sk-item\"><div class=\"sk-estimator sk-toggleable\"><input class=\"sk-toggleable__control sk-hidden--visually\" id=\"sk-estimator-id-4\" type=\"checkbox\" ><label for=\"sk-estimator-id-4\" class=\"sk-toggleable__label sk-toggleable__label-arrow\">StandardScaler</label><div class=\"sk-toggleable__content\"><pre>StandardScaler()</pre></div></div></div></div></div></div><div class=\"sk-parallel-item\"><div class=\"sk-item\"><div class=\"sk-label-container\"><div class=\"sk-label sk-toggleable\"><input class=\"sk-toggleable__control sk-hidden--visually\" id=\"sk-estimator-id-5\" type=\"checkbox\" ><label for=\"sk-estimator-id-5\" class=\"sk-toggleable__label sk-toggleable__label-arrow\">remainder</label><div class=\"sk-toggleable__content\"><pre></pre></div></div></div><div class=\"sk-serial\"><div class=\"sk-item\"><div class=\"sk-estimator sk-toggleable\"><input class=\"sk-toggleable__control sk-hidden--visually\" id=\"sk-estimator-id-6\" type=\"checkbox\" ><label for=\"sk-estimator-id-6\" class=\"sk-toggleable__label sk-toggleable__label-arrow\">passthrough</label><div class=\"sk-toggleable__content\"><pre>passthrough</pre></div></div></div></div></div></div></div></div><div class=\"sk-item sk-dashed-wrapped\"><div class=\"sk-label-container\"><div class=\"sk-label sk-toggleable\"><input class=\"sk-toggleable__control sk-hidden--visually\" id=\"sk-estimator-id-7\" type=\"checkbox\" ><label for=\"sk-estimator-id-7\" class=\"sk-toggleable__label sk-toggleable__label-arrow\">dim_red_ind: ColumnTransformer</label><div class=\"sk-toggleable__content\"><pre>ColumnTransformer(transformers=[(&#x27;gpa&#x27;, &#x27;passthrough&#x27;,\n                                 array([    0,     1,     2, ..., 16001, 16002, 16003])),\n                                (&#x27;snps&#x27;, &#x27;passthrough&#x27;,\n                                 array([16004, 16005, 16006, ..., 88236, 88237, 88238])),\n                                (&#x27;genexp&#x27;, &#x27;passthrough&#x27;,\n                                 array([88239, 88240, 88241, ..., 94261, 94262, 94263]))])</pre></div></div></div><div class=\"sk-parallel\"><div class=\"sk-parallel-item\"><div class=\"sk-item\"><div class=\"sk-label-container\"><div class=\"sk-label sk-toggleable\"><input class=\"sk-toggleable__control sk-hidden--visually\" id=\"sk-estimator-id-8\" type=\"checkbox\" ><label for=\"sk-estimator-id-8\" class=\"sk-toggleable__label sk-toggleable__label-arrow\">gpa</label><div class=\"sk-toggleable__content\"><pre>[    0     1     2 ... 16001 16002 16003]</pre></div></div></div><div class=\"sk-serial\"><div class=\"sk-item\"><div class=\"sk-estimator sk-toggleable\"><input class=\"sk-toggleable__control sk-hidden--visually\" id=\"sk-estimator-id-9\" type=\"checkbox\" ><label for=\"sk-estimator-id-9\" class=\"sk-toggleable__label sk-toggleable__label-arrow\">passthrough</label><div class=\"sk-toggleable__content\"><pre>passthrough</pre></div></div></div></div></div></div><div class=\"sk-parallel-item\"><div class=\"sk-item\"><div class=\"sk-label-container\"><div class=\"sk-label sk-toggleable\"><input class=\"sk-toggleable__control sk-hidden--visually\" id=\"sk-estimator-id-10\" type=\"checkbox\" ><label for=\"sk-estimator-id-10\" class=\"sk-toggleable__label sk-toggleable__label-arrow\">snps</label><div class=\"sk-toggleable__content\"><pre>[16004 16005 16006 ... 88236 88237 88238]</pre></div></div></div><div class=\"sk-serial\"><div class=\"sk-item\"><div class=\"sk-estimator sk-toggleable\"><input class=\"sk-toggleable__control sk-hidden--visually\" id=\"sk-estimator-id-11\" type=\"checkbox\" ><label for=\"sk-estimator-id-11\" class=\"sk-toggleable__label sk-toggleable__label-arrow\">passthrough</label><div class=\"sk-toggleable__content\"><pre>passthrough</pre></div></div></div></div></div></div><div class=\"sk-parallel-item\"><div class=\"sk-item\"><div class=\"sk-label-container\"><div class=\"sk-label sk-toggleable\"><input class=\"sk-toggleable__control sk-hidden--visually\" id=\"sk-estimator-id-12\" type=\"checkbox\" ><label for=\"sk-estimator-id-12\" class=\"sk-toggleable__label sk-toggleable__label-arrow\">genexp</label><div class=\"sk-toggleable__content\"><pre>[88239 88240 88241 ... 94261 94262 94263]</pre></div></div></div><div class=\"sk-serial\"><div class=\"sk-item\"><div class=\"sk-estimator sk-toggleable\"><input class=\"sk-toggleable__control sk-hidden--visually\" id=\"sk-estimator-id-13\" type=\"checkbox\" ><label for=\"sk-estimator-id-13\" class=\"sk-toggleable__label sk-toggleable__label-arrow\">passthrough</label><div class=\"sk-toggleable__content\"><pre>passthrough</pre></div></div></div></div></div></div></div></div><div class=\"sk-item\"><div class=\"sk-estimator sk-toggleable\"><input class=\"sk-toggleable__control sk-hidden--visually\" id=\"sk-estimator-id-14\" type=\"checkbox\" ><label for=\"sk-estimator-id-14\" class=\"sk-toggleable__label sk-toggleable__label-arrow\">passthrough</label><div class=\"sk-toggleable__content\"><pre>passthrough</pre></div></div></div><div class=\"sk-item\"><div class=\"sk-estimator sk-toggleable\"><input class=\"sk-toggleable__control sk-hidden--visually\" id=\"sk-estimator-id-15\" type=\"checkbox\" ><label for=\"sk-estimator-id-15\" class=\"sk-toggleable__label sk-toggleable__label-arrow\">DummyClassifier</label><div class=\"sk-toggleable__content\"><pre>DummyClassifier()</pre></div></div></div></div></div></div></div>"
     },
     "execution_count": 5,
     "metadata": {},
     "output_type": "execute_result"
    }
   ],
   "source": [
    "pipe"
   ],
   "metadata": {
    "collapsed": false,
    "pycharm": {
     "name": "#%%\n"
    }
   }
  },
  {
   "cell_type": "markdown",
   "source": [
    "Pour limiter le nombres d'hyper-paramètres à ajuster par validation croisée, dans un premier temps, on cherche à sélectionner la bonne procédure de transformation et de réduction de dimension sans faire varier les hyper-paramètres des classifieurs. Dans un second temps on fait varier les hyper-paramètres des classifieurs en gardant la procédure de pré-traitement la plus performante de l'étape précédente."
   ],
   "metadata": {
    "collapsed": false,
    "pycharm": {
     "name": "#%% md\n"
    }
   }
  },
  {
   "cell_type": "code",
   "execution_count": 6,
   "outputs": [],
   "source": [
    "# function that create the grids corresponding to the possible roots and parameters\n",
    "def create_grid(roots, params):\n",
    "    # recursively adds parameters to a grid\n",
    "    def add_to_grid(g, r, p):\n",
    "        if len(p[0]) > 0:\n",
    "            r = \"__\".join([r, p[0]])\n",
    "        g[r] = p[1]\n",
    "        # parameters can have inner parameters\n",
    "        for c in p[2]:\n",
    "            add_to_grid(g, r, c)\n",
    "\n",
    "    grids = []\n",
    "    # loops through all combinations of root / param pairs of size len(roots)\n",
    "    for comb in combinations(product(roots, params), len(roots)):\n",
    "        valid = True\n",
    "        grid = {}\n",
    "        for root, param in comb:\n",
    "            # a combination is valid only if a root appears only once\n",
    "            if root in grid:\n",
    "                valid = False\n",
    "                break\n",
    "            else:\n",
    "                add_to_grid(grid, root, param)\n",
    "        if valid:\n",
    "            grids.append(grid)\n",
    "    return grids"
   ],
   "metadata": {
    "collapsed": false,
    "pycharm": {
     "name": "#%%\n"
    }
   }
  },
  {
   "cell_type": "code",
   "execution_count": 7,
   "outputs": [
    {
     "data": {
      "text/plain": "9261"
     },
     "execution_count": 7,
     "metadata": {},
     "output_type": "execute_result"
    }
   ],
   "source": [
    "dim_red_ind_grid_roots = [\"dim_red_ind__gpa\", \"dim_red_ind__snps\", \"dim_red_ind__genexp\"]\n",
    "dim_red_ind_grid_params = [(\"\", [\"drop\", \"passthrough\"], []),\n",
    "                           (\"\", [TruncatedSVD(random_state=seed)],\n",
    "                            [(\"n_components\", [64, 128, 256], [])]),\n",
    "                           (\"\", [KernelPCA(random_state=seed)],\n",
    "                            [(\"kernel\", [\"linear\", \"poly\", \"rbf\", \"sigmoid\"], []),\n",
    "                             (\"n_components\", [64, 128, 256], [])]),\n",
    "                           (\"\", [StabilitySelection(random_state=seed)],\n",
    "                            [(\"threshold\", np.linspace(.6, .9, 4), [])])]\n",
    "dim_red_ind_grid = create_grid(dim_red_ind_grid_roots, dim_red_ind_grid_params)\n",
    "len(ParameterGrid(dim_red_ind_grid))"
   ],
   "metadata": {
    "collapsed": false,
    "pycharm": {
     "name": "#%%\n"
    }
   }
  },
  {
   "cell_type": "code",
   "execution_count": 8,
   "outputs": [
    {
     "data": {
      "text/plain": "20"
     },
     "execution_count": 8,
     "metadata": {},
     "output_type": "execute_result"
    }
   ],
   "source": [
    "dim_red_grid_roots = [\"dim_red\"]\n",
    "dim_red_grid_params = [(\"\", [\"passthrough\",], []),\n",
    "                       (\"\", [TruncatedSVD(random_state=seed),],\n",
    "                        [(\"n_components\", [64, 128, 256], [])]),\n",
    "                       (\"\", [KernelPCA(random_state=seed),],\n",
    "                        [(\"kernel\", [\"linear\", \"poly\", \"rbf\", \"sigmoid\"], []),\n",
    "                         (\"n_components\", [64, 128, 256], [])]),\n",
    "                       (\"\", [StabilitySelection(random_state=seed),],\n",
    "                        [(\"threshold\", np.linspace(.6, .9, 4), [])])]\n",
    "dim_red_grid = create_grid(dim_red_grid_roots, dim_red_grid_params)\n",
    "len(ParameterGrid(dim_red_grid))"
   ],
   "metadata": {
    "collapsed": false,
    "pycharm": {
     "name": "#%%\n"
    }
   }
  },
  {
   "cell_type": "code",
   "execution_count": 9,
   "outputs": [
    {
     "data": {
      "text/plain": "37"
     },
     "execution_count": 9,
     "metadata": {},
     "output_type": "execute_result"
    }
   ],
   "source": [
    "clf_grid_roots = [\"clf\"]\n",
    "clf_grid_params = [(\"\", [AdaBoostClassifier(random_state=seed), GradientBoostingClassifier(random_state=seed)],\n",
    "                    [(\"learning_rate\", np.logspace(-2, 0, 3), [])]),\n",
    "                   (\"\", [BaggingClassifier(random_state=seed)],\n",
    "                    [(\"max_features\", np.linspace(1/3, 2/3, 3), [])]),\n",
    "                   (\"\", [ExtraTreesClassifier(bootstrap=True, oob_score=True, class_weight=\"balanced\", random_state=seed),\n",
    "                         RandomForestClassifier(oob_score=True, class_weight=\"balanced\", random_state=seed)],\n",
    "                    [(\"criterion\", [\"gini\", \"log_loss\"], [])]),\n",
    "                   (\"\", [LogisticRegression(class_weight=\"balanced\", max_iter=1000, random_state=seed),\n",
    "                         PassiveAggressiveClassifier(class_weight=\"balanced\", random_state=seed)],\n",
    "                    [(\"C\", np.logspace(-1, 1, 3), [])]),\n",
    "                   (\"\", [Perceptron(class_weight=\"balanced\", random_state=seed), SGDClassifier(class_weight=\"balanced\", random_state=seed)],\n",
    "                    [(\"alpha\", np.logspace(-5, -3, 3), [])]),\n",
    "                   (\"\", [SVC(class_weight=\"balanced\", max_iter=10000, random_state=seed)],\n",
    "                    [(\"C\", np.logspace(-1, 1, 3), []), (\"kernel\", [\"linear\", \"poly\", \"rbf\", \"sigmoid\"], [])])]\n",
    "clf_grid = create_grid(clf_grid_roots, clf_grid_params)\n",
    "len(ParameterGrid(clf_grid))"
   ],
   "metadata": {
    "collapsed": false,
    "pycharm": {
     "name": "#%%\n"
    }
   }
  },
  {
   "cell_type": "code",
   "execution_count": 10,
   "outputs": [],
   "source": [
    "def merge_grids(grids):\n",
    "    merged_grid = grids.pop()\n",
    "    for grid in grids:\n",
    "        merged_grid = [{**g1, **g2} for g1, g2 in product(merged_grid, grid)]\n",
    "    return merged_grid"
   ],
   "metadata": {
    "collapsed": false,
    "pycharm": {
     "name": "#%%\n"
    }
   }
  },
  {
   "cell_type": "code",
   "execution_count": 11,
   "outputs": [
    {
     "data": {
      "text/plain": "6853140"
     },
     "execution_count": 11,
     "metadata": {},
     "output_type": "execute_result"
    }
   ],
   "source": [
    "full_grid = merge_grids([dim_red_ind_grid, dim_red_grid, clf_grid])\n",
    "len(ParameterGrid(full_grid))"
   ],
   "metadata": {
    "collapsed": false,
    "pycharm": {
     "name": "#%%\n"
    }
   }
  },
  {
   "cell_type": "code",
   "execution_count": 12,
   "outputs": [],
   "source": [
    "cv_grid = GridSearchCV(pipe, full_grid, scoring=\"balanced_accuracy\", n_jobs=n_jobs, pre_dispatch=\"n_jobs\", verbose=2)"
   ],
   "metadata": {
    "collapsed": false,
    "pycharm": {
     "name": "#%%\n"
    }
   }
  },
  {
   "cell_type": "markdown",
   "source": [
    "# Colistin"
   ],
   "metadata": {
    "collapsed": false,
    "pycharm": {
     "name": "#%% md\n"
    }
   }
  },
  {
   "cell_type": "code",
   "execution_count": 13,
   "outputs": [],
   "source": [
    "y = pheno[\"Colistin\"].to_numpy()"
   ],
   "metadata": {
    "collapsed": false,
    "pycharm": {
     "name": "#%%\n"
    }
   }
  },
  {
   "cell_type": "code",
   "execution_count": null,
   "outputs": [],
   "source": [
    "with warnings.catch_warnings():\n",
    "    warnings.simplefilter(\"ignore\")\n",
    "    cv_grid_colistin = cv_grid.fit(X, y)"
   ],
   "metadata": {
    "collapsed": false,
    "pycharm": {
     "name": "#%%\n",
     "is_executing": true
    }
   }
  }
 ],
 "metadata": {
  "kernelspec": {
   "display_name": "Python 3",
   "language": "python",
   "name": "python3"
  },
  "language_info": {
   "codemirror_mode": {
    "name": "ipython",
    "version": 2
   },
   "file_extension": ".py",
   "mimetype": "text/x-python",
   "name": "python",
   "nbconvert_exporter": "python",
   "pygments_lexer": "ipython2",
   "version": "2.7.6"
  }
 },
 "nbformat": 4,
 "nbformat_minor": 0
}