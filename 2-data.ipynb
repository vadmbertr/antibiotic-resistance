{
 "cells": [
  {
   "cell_type": "code",
   "execution_count": 22,
   "metadata": {
    "collapsed": true,
    "pycharm": {
     "name": "#%%\n"
    }
   },
   "outputs": [],
   "source": [
    "import pickle\n",
    "\n",
    "import numpy as np\n",
    "import pandas as pd"
   ]
  },
  {
   "cell_type": "code",
   "execution_count": 4,
   "outputs": [],
   "source": [
    "with open(\"dataset.pkl\", \"rb\") as f:\n",
    "    DATA = pickle.load(f)\n",
    "    pheno = DATA[\"pheno\"]\n",
    "    X_gpa = pd.DataFrame(DATA[\"X_gpa\"])\n",
    "    X_snps = pd.DataFrame(DATA[\"X_snps\"])\n",
    "    X_genexp = pd.DataFrame(DATA[\"X_genexp\"])"
   ],
   "metadata": {
    "collapsed": false,
    "pycharm": {
     "name": "#%%\n"
    }
   }
  },
  {
   "cell_type": "markdown",
   "source": [
    "# Réponse"
   ],
   "metadata": {
    "collapsed": false,
    "pycharm": {
     "name": "#%% md\n"
    }
   }
  },
  {
   "cell_type": "code",
   "execution_count": 43,
   "outputs": [],
   "source": [
    "Y = pd.DataFrame(pheno.iloc[:, 1:])\n",
    "Y = Y.set_index(pheno[\"strain_ids\"])"
   ],
   "metadata": {
    "collapsed": false,
    "pycharm": {
     "name": "#%%\n"
    }
   }
  },
  {
   "cell_type": "code",
   "execution_count": 59,
   "outputs": [
    {
     "data": {
      "text/plain": "Tobramycin        8\nCeftazidim       80\nCiprofloxacin    56\nMeropenem        60\nColistin          0\ndtype: int64"
     },
     "execution_count": 59,
     "metadata": {},
     "output_type": "execute_result"
    }
   ],
   "source": [
    "Y.isna().sum()"
   ],
   "metadata": {
    "collapsed": false,
    "pycharm": {
     "name": "#%%\n"
    }
   }
  },
  {
   "cell_type": "code",
   "execution_count": 45,
   "outputs": [
    {
     "data": {
      "text/plain": "        Tobramycin  Ceftazidim  Ciprofloxacin  Meropenem  Colistin\ncount        406.0       334.0          358.0      354.0       414\nunique         2.0         2.0            2.0        2.0         2\ntop            0.0         0.0            1.0        1.0         0\nfreq         276.0       169.0          199.0      244.0       329",
      "text/html": "<div>\n<style scoped>\n    .dataframe tbody tr th:only-of-type {\n        vertical-align: middle;\n    }\n\n    .dataframe tbody tr th {\n        vertical-align: top;\n    }\n\n    .dataframe thead th {\n        text-align: right;\n    }\n</style>\n<table border=\"1\" class=\"dataframe\">\n  <thead>\n    <tr style=\"text-align: right;\">\n      <th></th>\n      <th>Tobramycin</th>\n      <th>Ceftazidim</th>\n      <th>Ciprofloxacin</th>\n      <th>Meropenem</th>\n      <th>Colistin</th>\n    </tr>\n  </thead>\n  <tbody>\n    <tr>\n      <th>count</th>\n      <td>406.0</td>\n      <td>334.0</td>\n      <td>358.0</td>\n      <td>354.0</td>\n      <td>414</td>\n    </tr>\n    <tr>\n      <th>unique</th>\n      <td>2.0</td>\n      <td>2.0</td>\n      <td>2.0</td>\n      <td>2.0</td>\n      <td>2</td>\n    </tr>\n    <tr>\n      <th>top</th>\n      <td>0.0</td>\n      <td>0.0</td>\n      <td>1.0</td>\n      <td>1.0</td>\n      <td>0</td>\n    </tr>\n    <tr>\n      <th>freq</th>\n      <td>276.0</td>\n      <td>169.0</td>\n      <td>199.0</td>\n      <td>244.0</td>\n      <td>329</td>\n    </tr>\n  </tbody>\n</table>\n</div>"
     },
     "execution_count": 45,
     "metadata": {},
     "output_type": "execute_result"
    }
   ],
   "source": [
    "Y_desc = Y.astype(\"object\").describe()\n",
    "Y_desc"
   ],
   "metadata": {
    "collapsed": false,
    "pycharm": {
     "name": "#%%\n"
    }
   }
  },
  {
   "cell_type": "code",
   "execution_count": 70,
   "outputs": [
    {
     "data": {
      "text/plain": "   Tobramycin  Ceftazidim  Ciprofloxacin  Meropenem  Colistin\n0         276         169            159        110       329\n1         130         165            199        244        85",
      "text/html": "<div>\n<style scoped>\n    .dataframe tbody tr th:only-of-type {\n        vertical-align: middle;\n    }\n\n    .dataframe tbody tr th {\n        vertical-align: top;\n    }\n\n    .dataframe thead th {\n        text-align: right;\n    }\n</style>\n<table border=\"1\" class=\"dataframe\">\n  <thead>\n    <tr style=\"text-align: right;\">\n      <th></th>\n      <th>Tobramycin</th>\n      <th>Ceftazidim</th>\n      <th>Ciprofloxacin</th>\n      <th>Meropenem</th>\n      <th>Colistin</th>\n    </tr>\n  </thead>\n  <tbody>\n    <tr>\n      <th>0</th>\n      <td>276</td>\n      <td>169</td>\n      <td>159</td>\n      <td>110</td>\n      <td>329</td>\n    </tr>\n    <tr>\n      <th>1</th>\n      <td>130</td>\n      <td>165</td>\n      <td>199</td>\n      <td>244</td>\n      <td>85</td>\n    </tr>\n  </tbody>\n</table>\n</div>"
     },
     "execution_count": 70,
     "metadata": {},
     "output_type": "execute_result"
    }
   ],
   "source": [
    "Y_bincount = Y.apply(lambda x: np.bincount(x.dropna()), axis=0)\n",
    "Y_bincount"
   ],
   "metadata": {
    "collapsed": false,
    "pycharm": {
     "name": "#%%\n"
    }
   }
  },
  {
   "cell_type": "markdown",
   "source": [
    "# Régresseurs"
   ],
   "metadata": {
    "collapsed": false,
    "pycharm": {
     "name": "#%% md\n"
    }
   }
  },
  {
   "cell_type": "markdown",
   "source": [
    "## X_gpa"
   ],
   "metadata": {
    "collapsed": false,
    "pycharm": {
     "name": "#%% md\n"
    }
   }
  },
  {
   "cell_type": "code",
   "execution_count": 30,
   "outputs": [
    {
     "data": {
      "text/plain": "0"
     },
     "execution_count": 30,
     "metadata": {},
     "output_type": "execute_result"
    }
   ],
   "source": [
    "X_gpa.isna().sum().sum()"
   ],
   "metadata": {
    "collapsed": false,
    "pycharm": {
     "name": "#%%\n"
    }
   }
  },
  {
   "cell_type": "code",
   "execution_count": 46,
   "outputs": [
    {
     "data": {
      "text/plain": "        0      1      2      3      4      5      6      7      8      9      \\\ncount   414.0  414.0  414.0  414.0  414.0  414.0  414.0  414.0  414.0  414.0   \nunique    2.0    2.0    2.0    2.0    2.0    2.0    2.0    2.0    2.0    1.0   \ntop       0.0    0.0    0.0    0.0    0.0    0.0    0.0    0.0    1.0    0.0   \nfreq    384.0  402.0  403.0  413.0  399.0  389.0  413.0  413.0  413.0  414.0   \n\n        ...  15995  15996  15997  15998  15999  16000  16001  16002  16003  \\\ncount   ...  414.0  414.0  414.0  414.0  414.0  414.0  414.0  414.0  414.0   \nunique  ...    2.0    2.0    2.0    2.0    2.0    2.0    2.0    2.0    2.0   \ntop     ...    0.0    0.0    0.0    0.0    0.0    0.0    0.0    0.0    0.0   \nfreq    ...  382.0  393.0  368.0  375.0  365.0  365.0  385.0  365.0  370.0   \n\n        16004  \ncount   414.0  \nunique    2.0  \ntop       0.0  \nfreq    364.0  \n\n[4 rows x 16005 columns]",
      "text/html": "<div>\n<style scoped>\n    .dataframe tbody tr th:only-of-type {\n        vertical-align: middle;\n    }\n\n    .dataframe tbody tr th {\n        vertical-align: top;\n    }\n\n    .dataframe thead th {\n        text-align: right;\n    }\n</style>\n<table border=\"1\" class=\"dataframe\">\n  <thead>\n    <tr style=\"text-align: right;\">\n      <th></th>\n      <th>0</th>\n      <th>1</th>\n      <th>2</th>\n      <th>3</th>\n      <th>4</th>\n      <th>5</th>\n      <th>6</th>\n      <th>7</th>\n      <th>8</th>\n      <th>9</th>\n      <th>...</th>\n      <th>15995</th>\n      <th>15996</th>\n      <th>15997</th>\n      <th>15998</th>\n      <th>15999</th>\n      <th>16000</th>\n      <th>16001</th>\n      <th>16002</th>\n      <th>16003</th>\n      <th>16004</th>\n    </tr>\n  </thead>\n  <tbody>\n    <tr>\n      <th>count</th>\n      <td>414.0</td>\n      <td>414.0</td>\n      <td>414.0</td>\n      <td>414.0</td>\n      <td>414.0</td>\n      <td>414.0</td>\n      <td>414.0</td>\n      <td>414.0</td>\n      <td>414.0</td>\n      <td>414.0</td>\n      <td>...</td>\n      <td>414.0</td>\n      <td>414.0</td>\n      <td>414.0</td>\n      <td>414.0</td>\n      <td>414.0</td>\n      <td>414.0</td>\n      <td>414.0</td>\n      <td>414.0</td>\n      <td>414.0</td>\n      <td>414.0</td>\n    </tr>\n    <tr>\n      <th>unique</th>\n      <td>2.0</td>\n      <td>2.0</td>\n      <td>2.0</td>\n      <td>2.0</td>\n      <td>2.0</td>\n      <td>2.0</td>\n      <td>2.0</td>\n      <td>2.0</td>\n      <td>2.0</td>\n      <td>1.0</td>\n      <td>...</td>\n      <td>2.0</td>\n      <td>2.0</td>\n      <td>2.0</td>\n      <td>2.0</td>\n      <td>2.0</td>\n      <td>2.0</td>\n      <td>2.0</td>\n      <td>2.0</td>\n      <td>2.0</td>\n      <td>2.0</td>\n    </tr>\n    <tr>\n      <th>top</th>\n      <td>0.0</td>\n      <td>0.0</td>\n      <td>0.0</td>\n      <td>0.0</td>\n      <td>0.0</td>\n      <td>0.0</td>\n      <td>0.0</td>\n      <td>0.0</td>\n      <td>1.0</td>\n      <td>0.0</td>\n      <td>...</td>\n      <td>0.0</td>\n      <td>0.0</td>\n      <td>0.0</td>\n      <td>0.0</td>\n      <td>0.0</td>\n      <td>0.0</td>\n      <td>0.0</td>\n      <td>0.0</td>\n      <td>0.0</td>\n      <td>0.0</td>\n    </tr>\n    <tr>\n      <th>freq</th>\n      <td>384.0</td>\n      <td>402.0</td>\n      <td>403.0</td>\n      <td>413.0</td>\n      <td>399.0</td>\n      <td>389.0</td>\n      <td>413.0</td>\n      <td>413.0</td>\n      <td>413.0</td>\n      <td>414.0</td>\n      <td>...</td>\n      <td>382.0</td>\n      <td>393.0</td>\n      <td>368.0</td>\n      <td>375.0</td>\n      <td>365.0</td>\n      <td>365.0</td>\n      <td>385.0</td>\n      <td>365.0</td>\n      <td>370.0</td>\n      <td>364.0</td>\n    </tr>\n  </tbody>\n</table>\n<p>4 rows × 16005 columns</p>\n</div>"
     },
     "execution_count": 46,
     "metadata": {},
     "output_type": "execute_result"
    }
   ],
   "source": [
    "X_gpa_desc = X_gpa.astype(\"object\").describe()\n",
    "X_gpa_desc"
   ],
   "metadata": {
    "collapsed": false,
    "pycharm": {
     "name": "#%%\n"
    }
   }
  },
  {
   "cell_type": "code",
   "execution_count": 76,
   "outputs": [
    {
     "data": {
      "text/plain": "array([    0,    26, 15979])"
     },
     "execution_count": 76,
     "metadata": {},
     "output_type": "execute_result"
    }
   ],
   "source": [
    "np.bincount(X_gpa_desc.transpose()[\"unique\"])"
   ],
   "metadata": {
    "collapsed": false,
    "pycharm": {
     "name": "#%%\n"
    }
   }
  },
  {
   "cell_type": "code",
   "execution_count": 77,
   "outputs": [
    {
     "data": {
      "text/plain": "array([12424,  3581])"
     },
     "execution_count": 77,
     "metadata": {},
     "output_type": "execute_result"
    }
   ],
   "source": [
    "X_gpa_bincount = np.bincount(X_gpa_desc.transpose()[\"top\"])\n",
    "X_gpa_bincount"
   ],
   "metadata": {
    "collapsed": false,
    "pycharm": {
     "name": "#%%\n"
    }
   }
  },
  {
   "cell_type": "markdown",
   "source": [
    "## X_snps"
   ],
   "metadata": {
    "collapsed": false,
    "pycharm": {
     "name": "#%% md\n"
    }
   }
  },
  {
   "cell_type": "code",
   "execution_count": 31,
   "outputs": [
    {
     "data": {
      "text/plain": "0"
     },
     "execution_count": 31,
     "metadata": {},
     "output_type": "execute_result"
    }
   ],
   "source": [
    "X_snps.isna().sum().sum()"
   ],
   "metadata": {
    "collapsed": false,
    "pycharm": {
     "name": "#%%\n"
    }
   }
  },
  {
   "cell_type": "code",
   "execution_count": 48,
   "outputs": [
    {
     "data": {
      "text/plain": "        0      1      2      3      4      5      6      7      8      9      \\\ncount   414.0  414.0  414.0  414.0  414.0  414.0  414.0  414.0  414.0  414.0   \nunique    2.0    2.0    2.0    2.0    2.0    2.0    2.0    2.0    2.0    2.0   \ntop       0.0    0.0    0.0    0.0    0.0    0.0    0.0    0.0    0.0    0.0   \nfreq    413.0  413.0  412.0  413.0  411.0  413.0  413.0  411.0  413.0  413.0   \n\n        ...  72226  72227  72228  72229  72230  72231  72232  72233  72234  \\\ncount   ...  414.0  414.0  414.0  414.0  414.0  414.0  414.0  414.0  414.0   \nunique  ...    2.0    2.0    2.0    2.0    2.0    2.0    2.0    2.0    2.0   \ntop     ...    1.0    1.0    1.0    1.0    1.0    1.0    1.0    1.0    1.0   \nfreq    ...  412.0  409.0  408.0  409.0  412.0  411.0  410.0  412.0  412.0   \n\n        72235  \ncount   414.0  \nunique    2.0  \ntop       1.0  \nfreq    413.0  \n\n[4 rows x 72236 columns]",
      "text/html": "<div>\n<style scoped>\n    .dataframe tbody tr th:only-of-type {\n        vertical-align: middle;\n    }\n\n    .dataframe tbody tr th {\n        vertical-align: top;\n    }\n\n    .dataframe thead th {\n        text-align: right;\n    }\n</style>\n<table border=\"1\" class=\"dataframe\">\n  <thead>\n    <tr style=\"text-align: right;\">\n      <th></th>\n      <th>0</th>\n      <th>1</th>\n      <th>2</th>\n      <th>3</th>\n      <th>4</th>\n      <th>5</th>\n      <th>6</th>\n      <th>7</th>\n      <th>8</th>\n      <th>9</th>\n      <th>...</th>\n      <th>72226</th>\n      <th>72227</th>\n      <th>72228</th>\n      <th>72229</th>\n      <th>72230</th>\n      <th>72231</th>\n      <th>72232</th>\n      <th>72233</th>\n      <th>72234</th>\n      <th>72235</th>\n    </tr>\n  </thead>\n  <tbody>\n    <tr>\n      <th>count</th>\n      <td>414.0</td>\n      <td>414.0</td>\n      <td>414.0</td>\n      <td>414.0</td>\n      <td>414.0</td>\n      <td>414.0</td>\n      <td>414.0</td>\n      <td>414.0</td>\n      <td>414.0</td>\n      <td>414.0</td>\n      <td>...</td>\n      <td>414.0</td>\n      <td>414.0</td>\n      <td>414.0</td>\n      <td>414.0</td>\n      <td>414.0</td>\n      <td>414.0</td>\n      <td>414.0</td>\n      <td>414.0</td>\n      <td>414.0</td>\n      <td>414.0</td>\n    </tr>\n    <tr>\n      <th>unique</th>\n      <td>2.0</td>\n      <td>2.0</td>\n      <td>2.0</td>\n      <td>2.0</td>\n      <td>2.0</td>\n      <td>2.0</td>\n      <td>2.0</td>\n      <td>2.0</td>\n      <td>2.0</td>\n      <td>2.0</td>\n      <td>...</td>\n      <td>2.0</td>\n      <td>2.0</td>\n      <td>2.0</td>\n      <td>2.0</td>\n      <td>2.0</td>\n      <td>2.0</td>\n      <td>2.0</td>\n      <td>2.0</td>\n      <td>2.0</td>\n      <td>2.0</td>\n    </tr>\n    <tr>\n      <th>top</th>\n      <td>0.0</td>\n      <td>0.0</td>\n      <td>0.0</td>\n      <td>0.0</td>\n      <td>0.0</td>\n      <td>0.0</td>\n      <td>0.0</td>\n      <td>0.0</td>\n      <td>0.0</td>\n      <td>0.0</td>\n      <td>...</td>\n      <td>1.0</td>\n      <td>1.0</td>\n      <td>1.0</td>\n      <td>1.0</td>\n      <td>1.0</td>\n      <td>1.0</td>\n      <td>1.0</td>\n      <td>1.0</td>\n      <td>1.0</td>\n      <td>1.0</td>\n    </tr>\n    <tr>\n      <th>freq</th>\n      <td>413.0</td>\n      <td>413.0</td>\n      <td>412.0</td>\n      <td>413.0</td>\n      <td>411.0</td>\n      <td>413.0</td>\n      <td>413.0</td>\n      <td>411.0</td>\n      <td>413.0</td>\n      <td>413.0</td>\n      <td>...</td>\n      <td>412.0</td>\n      <td>409.0</td>\n      <td>408.0</td>\n      <td>409.0</td>\n      <td>412.0</td>\n      <td>411.0</td>\n      <td>410.0</td>\n      <td>412.0</td>\n      <td>412.0</td>\n      <td>413.0</td>\n    </tr>\n  </tbody>\n</table>\n<p>4 rows × 72236 columns</p>\n</div>"
     },
     "execution_count": 48,
     "metadata": {},
     "output_type": "execute_result"
    }
   ],
   "source": [
    "X_snps_desc = X_snps.astype(\"object\").describe()\n",
    "X_snps_desc"
   ],
   "metadata": {
    "collapsed": false,
    "pycharm": {
     "name": "#%%\n"
    }
   }
  },
  {
   "cell_type": "code",
   "execution_count": 52,
   "outputs": [
    {
     "data": {
      "text/plain": "array([    0,     0, 72236])"
     },
     "execution_count": 52,
     "metadata": {},
     "output_type": "execute_result"
    }
   ],
   "source": [
    "np.bincount(X_snps_desc.transpose()[\"unique\"])"
   ],
   "metadata": {
    "collapsed": false,
    "pycharm": {
     "name": "#%%\n"
    }
   }
  },
  {
   "cell_type": "code",
   "execution_count": 78,
   "outputs": [
    {
     "data": {
      "text/plain": "array([64018,  8218])"
     },
     "execution_count": 78,
     "metadata": {},
     "output_type": "execute_result"
    }
   ],
   "source": [
    "X_snps_bincount = np.bincount(X_snps_desc.transpose()[\"top\"])\n",
    "X_snps_bincount"
   ],
   "metadata": {
    "collapsed": false,
    "pycharm": {
     "name": "#%%\n"
    }
   }
  },
  {
   "cell_type": "markdown",
   "source": [
    "## X_genexp"
   ],
   "metadata": {
    "collapsed": false,
    "pycharm": {
     "name": "#%% md\n"
    }
   }
  },
  {
   "cell_type": "code",
   "execution_count": 32,
   "outputs": [
    {
     "data": {
      "text/plain": "0"
     },
     "execution_count": 32,
     "metadata": {},
     "output_type": "execute_result"
    }
   ],
   "source": [
    "X_genexp.isna().sum().sum()"
   ],
   "metadata": {
    "collapsed": false,
    "pycharm": {
     "name": "#%%\n"
    }
   }
  },
  {
   "cell_type": "code",
   "execution_count": 25,
   "outputs": [
    {
     "data": {
      "text/plain": "             0           1           2           3           4           5     \\\ncount  414.000000  414.000000  414.000000  414.000000  414.000000  414.000000   \nmean    -0.002561    0.002920    0.012274   -0.001958    0.000988    0.001924   \nstd      1.002205    1.002656    0.987441    1.003227    1.003288    1.001916   \nmin     -1.128761   -3.421856   -3.673536   -1.499985   -4.519747   -1.138913   \n50%     -0.022801    0.000098    0.038196    0.009843   -0.012183   -0.127722   \nmax      3.389896    2.609022    2.932473    3.127706    3.120557    3.282830   \n\n             6           7           8           9     ...        6016  \\\ncount  414.000000  414.000000  414.000000  414.000000  ...  414.000000   \nmean    -0.001340    0.004880   -0.003373    0.002539  ...    0.005247   \nstd      1.003393    1.000715    1.002405    1.002617  ...    0.999735   \nmin     -3.945250   -2.750396   -4.870209   -3.236383  ...   -1.737364   \n50%      0.035702    0.137816    0.035198    0.078814  ...   -0.054462   \nmax      3.551589    2.905629    3.907782    3.942526  ...    3.661318   \n\n             6017        6018        6019        6020        6021        6022  \\\ncount  414.000000  414.000000  414.000000  414.000000  414.000000  414.000000   \nmean     0.000613    0.003743   -0.002270    0.000436   -0.003727    0.000030   \nstd      1.003579    1.001948    1.003043    1.003564    1.001374    1.003315   \nmin     -3.568733   -6.178395   -4.345745   -3.232178   -3.665220   -3.263316   \n50%      0.028785    0.148808    0.010564    0.071302   -0.149710    0.068494   \nmax      3.128115    2.494707    2.613041    2.666078    3.523291    3.661753   \n\n             6023        6024        6025  \ncount  414.000000  414.000000  414.000000  \nmean    -0.002296    0.010420    0.000303  \nstd      1.002352    0.992282    1.003546  \nmin     -1.584669   -2.804049   -3.227633  \n50%     -0.226664    0.080455   -0.109306  \nmax      3.360520    2.278268    2.748060  \n\n[6 rows x 6026 columns]",
      "text/html": "<div>\n<style scoped>\n    .dataframe tbody tr th:only-of-type {\n        vertical-align: middle;\n    }\n\n    .dataframe tbody tr th {\n        vertical-align: top;\n    }\n\n    .dataframe thead th {\n        text-align: right;\n    }\n</style>\n<table border=\"1\" class=\"dataframe\">\n  <thead>\n    <tr style=\"text-align: right;\">\n      <th></th>\n      <th>0</th>\n      <th>1</th>\n      <th>2</th>\n      <th>3</th>\n      <th>4</th>\n      <th>5</th>\n      <th>6</th>\n      <th>7</th>\n      <th>8</th>\n      <th>9</th>\n      <th>...</th>\n      <th>6016</th>\n      <th>6017</th>\n      <th>6018</th>\n      <th>6019</th>\n      <th>6020</th>\n      <th>6021</th>\n      <th>6022</th>\n      <th>6023</th>\n      <th>6024</th>\n      <th>6025</th>\n    </tr>\n  </thead>\n  <tbody>\n    <tr>\n      <th>count</th>\n      <td>414.000000</td>\n      <td>414.000000</td>\n      <td>414.000000</td>\n      <td>414.000000</td>\n      <td>414.000000</td>\n      <td>414.000000</td>\n      <td>414.000000</td>\n      <td>414.000000</td>\n      <td>414.000000</td>\n      <td>414.000000</td>\n      <td>...</td>\n      <td>414.000000</td>\n      <td>414.000000</td>\n      <td>414.000000</td>\n      <td>414.000000</td>\n      <td>414.000000</td>\n      <td>414.000000</td>\n      <td>414.000000</td>\n      <td>414.000000</td>\n      <td>414.000000</td>\n      <td>414.000000</td>\n    </tr>\n    <tr>\n      <th>mean</th>\n      <td>-0.002561</td>\n      <td>0.002920</td>\n      <td>0.012274</td>\n      <td>-0.001958</td>\n      <td>0.000988</td>\n      <td>0.001924</td>\n      <td>-0.001340</td>\n      <td>0.004880</td>\n      <td>-0.003373</td>\n      <td>0.002539</td>\n      <td>...</td>\n      <td>0.005247</td>\n      <td>0.000613</td>\n      <td>0.003743</td>\n      <td>-0.002270</td>\n      <td>0.000436</td>\n      <td>-0.003727</td>\n      <td>0.000030</td>\n      <td>-0.002296</td>\n      <td>0.010420</td>\n      <td>0.000303</td>\n    </tr>\n    <tr>\n      <th>std</th>\n      <td>1.002205</td>\n      <td>1.002656</td>\n      <td>0.987441</td>\n      <td>1.003227</td>\n      <td>1.003288</td>\n      <td>1.001916</td>\n      <td>1.003393</td>\n      <td>1.000715</td>\n      <td>1.002405</td>\n      <td>1.002617</td>\n      <td>...</td>\n      <td>0.999735</td>\n      <td>1.003579</td>\n      <td>1.001948</td>\n      <td>1.003043</td>\n      <td>1.003564</td>\n      <td>1.001374</td>\n      <td>1.003315</td>\n      <td>1.002352</td>\n      <td>0.992282</td>\n      <td>1.003546</td>\n    </tr>\n    <tr>\n      <th>min</th>\n      <td>-1.128761</td>\n      <td>-3.421856</td>\n      <td>-3.673536</td>\n      <td>-1.499985</td>\n      <td>-4.519747</td>\n      <td>-1.138913</td>\n      <td>-3.945250</td>\n      <td>-2.750396</td>\n      <td>-4.870209</td>\n      <td>-3.236383</td>\n      <td>...</td>\n      <td>-1.737364</td>\n      <td>-3.568733</td>\n      <td>-6.178395</td>\n      <td>-4.345745</td>\n      <td>-3.232178</td>\n      <td>-3.665220</td>\n      <td>-3.263316</td>\n      <td>-1.584669</td>\n      <td>-2.804049</td>\n      <td>-3.227633</td>\n    </tr>\n    <tr>\n      <th>50%</th>\n      <td>-0.022801</td>\n      <td>0.000098</td>\n      <td>0.038196</td>\n      <td>0.009843</td>\n      <td>-0.012183</td>\n      <td>-0.127722</td>\n      <td>0.035702</td>\n      <td>0.137816</td>\n      <td>0.035198</td>\n      <td>0.078814</td>\n      <td>...</td>\n      <td>-0.054462</td>\n      <td>0.028785</td>\n      <td>0.148808</td>\n      <td>0.010564</td>\n      <td>0.071302</td>\n      <td>-0.149710</td>\n      <td>0.068494</td>\n      <td>-0.226664</td>\n      <td>0.080455</td>\n      <td>-0.109306</td>\n    </tr>\n    <tr>\n      <th>max</th>\n      <td>3.389896</td>\n      <td>2.609022</td>\n      <td>2.932473</td>\n      <td>3.127706</td>\n      <td>3.120557</td>\n      <td>3.282830</td>\n      <td>3.551589</td>\n      <td>2.905629</td>\n      <td>3.907782</td>\n      <td>3.942526</td>\n      <td>...</td>\n      <td>3.661318</td>\n      <td>3.128115</td>\n      <td>2.494707</td>\n      <td>2.613041</td>\n      <td>2.666078</td>\n      <td>3.523291</td>\n      <td>3.661753</td>\n      <td>3.360520</td>\n      <td>2.278268</td>\n      <td>2.748060</td>\n    </tr>\n  </tbody>\n</table>\n<p>6 rows × 6026 columns</p>\n</div>"
     },
     "execution_count": 25,
     "metadata": {},
     "output_type": "execute_result"
    }
   ],
   "source": [
    "X_genexp_desc = X_genexp.describe(percentiles=[])\n",
    "X_genexp_desc"
   ],
   "metadata": {
    "collapsed": false,
    "pycharm": {
     "name": "#%%\n"
    }
   }
  },
  {
   "cell_type": "markdown",
   "source": [
    "# Résumé"
   ],
   "metadata": {
    "collapsed": false,
    "pycharm": {
     "name": "#%% md\n"
    }
   }
  },
  {
   "cell_type": "code",
   "execution_count": 119,
   "outputs": [
    {
     "data": {
      "text/plain": "       Résistance                                             Présence         \\\n       Tobramycin Ceftazidim Ciprofloxacin Meropenem Colistin      gpa   snps   \n# NA            8         80            56        60        0        0      0   \n# VRAI        130        165           199       244       85     3581   8218   \n# FAUX        276        169           159       110      329    12424  64018   \n\n               \n       genexp  \n# NA      0.0  \n# VRAI    NaN  \n# FAUX    NaN  ",
      "text/html": "<div>\n<style scoped>\n    .dataframe tbody tr th:only-of-type {\n        vertical-align: middle;\n    }\n\n    .dataframe tbody tr th {\n        vertical-align: top;\n    }\n\n    .dataframe thead tr th {\n        text-align: left;\n    }\n</style>\n<table border=\"1\" class=\"dataframe\">\n  <thead>\n    <tr>\n      <th></th>\n      <th colspan=\"5\" halign=\"left\">Résistance</th>\n      <th colspan=\"3\" halign=\"left\">Présence</th>\n    </tr>\n    <tr>\n      <th></th>\n      <th>Tobramycin</th>\n      <th>Ceftazidim</th>\n      <th>Ciprofloxacin</th>\n      <th>Meropenem</th>\n      <th>Colistin</th>\n      <th>gpa</th>\n      <th>snps</th>\n      <th>genexp</th>\n    </tr>\n  </thead>\n  <tbody>\n    <tr>\n      <th># NA</th>\n      <td>8</td>\n      <td>80</td>\n      <td>56</td>\n      <td>60</td>\n      <td>0</td>\n      <td>0</td>\n      <td>0</td>\n      <td>0.0</td>\n    </tr>\n    <tr>\n      <th># VRAI</th>\n      <td>130</td>\n      <td>165</td>\n      <td>199</td>\n      <td>244</td>\n      <td>85</td>\n      <td>3581</td>\n      <td>8218</td>\n      <td>NaN</td>\n    </tr>\n    <tr>\n      <th># FAUX</th>\n      <td>276</td>\n      <td>169</td>\n      <td>159</td>\n      <td>110</td>\n      <td>329</td>\n      <td>12424</td>\n      <td>64018</td>\n      <td>NaN</td>\n    </tr>\n  </tbody>\n</table>\n</div>"
     },
     "execution_count": 119,
     "metadata": {},
     "output_type": "execute_result"
    }
   ],
   "source": [
    "columns = pd.MultiIndex.from_tuples(list(zip([\"Résistance\"]*5, Y.columns.tolist())) +\n",
    "                                    list(zip([\"Présence\"]*3, [\"gpa\", \"snps\", \"genexp\"])))\n",
    "df = pd.DataFrame([Y.isna().sum().tolist() + [X_gpa.isna().sum().sum()] + [X_snps.isna().sum().sum()] + [X_genexp.isna().sum().sum()],\n",
    "                   Y_bincount.iloc[1, :].tolist() + [X_gpa_bincount[1]] + [X_snps_bincount[1]] + [None],\n",
    "                   Y_bincount.iloc[0, :].tolist() + [X_gpa_bincount[0]] + [X_snps_bincount[0]] + [None]],\n",
    "                  index=[\"# NA\", \"# VRAI\", \"# FAUX\"],\n",
    "                  columns=columns)\n",
    "df"
   ],
   "metadata": {
    "collapsed": false,
    "pycharm": {
     "name": "#%%\n"
    }
   }
  },
  {
   "cell_type": "code",
   "execution_count": 120,
   "outputs": [
    {
     "name": "stderr",
     "output_type": "stream",
     "text": [
      "/tmp/ipykernel_42362/3806410242.py:1: FutureWarning: In future versions `DataFrame.to_latex` is expected to utilise the base implementation of `Styler.to_latex` for formatting and rendering. The arguments signature may therefore change. It is recommended instead to use `DataFrame.style.to_latex` which also contains additional functionality.\n",
      "  df.to_latex(buf=\"rapport/tables/data.tex\",\n"
     ]
    }
   ],
   "source": [
    "df.to_latex(buf=\"rapport/tables/data.tex\",\n",
    "            float_format=\"%.0f\",\n",
    "            bold_rows=True,\n",
    "            escape=True,\n",
    "            caption=\"Résumé des variables réponses et des régresseurs.\",\n",
    "            label=\"tab:data\",\n",
    "            position=\"H\")\n",
    "with open(\"rapport/tables/data.tex\", \"r+\") as f:\n",
    "    text = f.read().replace(\"\\\\begin{tabular}\", \"\\\\resizebox{\\\\textwidth}{!}{\\\\begin{tabular}\")\n",
    "    text = text.replace(\"\\\\end{tabular}\", \"\\\\end{tabular}}\")\n",
    "    f.seek(0)\n",
    "    f.write(text)\n",
    "    f.close()"
   ],
   "metadata": {
    "collapsed": false,
    "pycharm": {
     "name": "#%%\n"
    }
   }
  }
 ],
 "metadata": {
  "kernelspec": {
   "display_name": "Python 3",
   "language": "python",
   "name": "python3"
  },
  "language_info": {
   "codemirror_mode": {
    "name": "ipython",
    "version": 2
   },
   "file_extension": ".py",
   "mimetype": "text/x-python",
   "name": "python",
   "nbconvert_exporter": "python",
   "pygments_lexer": "ipython2",
   "version": "2.7.6"
  }
 },
 "nbformat": 4,
 "nbformat_minor": 0
}