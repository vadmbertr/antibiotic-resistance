{
 "cells": [
  {
   "cell_type": "code",
   "execution_count": 24,
   "outputs": [],
   "source": [
    "import pickle\n",
    "\n",
    "import joblib\n",
    "import pandas as pd\n",
    "import numpy as np\n",
    "from sklearn.compose import ColumnTransformer\n",
    "from sklearn.decomposition import KernelPCA\n",
    "from sklearn.ensemble import RandomForestClassifier, VotingClassifier\n",
    "from sklearn.linear_model import LogisticRegression\n",
    "from sklearn.model_selection import cross_val_score\n",
    "from sklearn.pipeline import Pipeline\n",
    "from sklearn.preprocessing import StandardScaler\n",
    "from sklearn.svm import SVC\n",
    "\n",
    "from custom_transformers.stability_selection import StabilitySelection\n",
    "from custom_transformers.standard_true_false import standard_true_false"
   ],
   "metadata": {
    "collapsed": false,
    "pycharm": {
     "name": "#%%\n"
    }
   }
  },
  {
   "cell_type": "code",
   "execution_count": 2,
   "outputs": [],
   "source": [
    "seed = 15\n",
    "np.random.seed(seed)\n",
    "n_jobs = joblib.cpu_count() - 1"
   ],
   "metadata": {
    "collapsed": false,
    "pycharm": {
     "name": "#%%\n"
    }
   }
  },
  {
   "cell_type": "code",
   "execution_count": 3,
   "outputs": [],
   "source": [
    "with open(\"dataset.pkl\", \"rb\") as f:\n",
    "    DATA = pickle.load(f)\n",
    "    pheno = DATA[\"pheno\"]\n",
    "    X_gpa = DATA[\"X_gpa\"]\n",
    "    X_snps = DATA[\"X_snps\"]\n",
    "    X_genexp = DATA[\"X_genexp\"]"
   ],
   "metadata": {
    "collapsed": false,
    "pycharm": {
     "name": "#%%\n"
    }
   }
  },
  {
   "cell_type": "code",
   "execution_count": 4,
   "outputs": [],
   "source": [
    "antibiotic = \"Tobramycin\"\n",
    "\n",
    "y = pheno[antibiotic].to_numpy()\n",
    "cv_results = pd.read_csv(\"results/grid_search/cv_results__{}.csv\".format(antibiotic))"
   ],
   "metadata": {
    "collapsed": false,
    "pycharm": {
     "name": "#%%\n"
    }
   }
  },
  {
   "cell_type": "code",
   "execution_count": 5,
   "outputs": [],
   "source": [
    "mask = np.isfinite(y)\n",
    "X_gpa = X_gpa[mask]\n",
    "X_snps = X_snps[mask]\n",
    "X_genexp = X_genexp[mask]\n",
    "y = y[mask].astype(int)"
   ],
   "metadata": {
    "collapsed": false,
    "pycharm": {
     "name": "#%%\n"
    }
   }
  },
  {
   "cell_type": "code",
   "execution_count": 6,
   "outputs": [],
   "source": [
    "gpa_idx = np.arange(0, X_gpa.shape[1] - 1)\n",
    "snps_idx = np.arange(0, X_snps.shape[1] - 1) + gpa_idx[-1] + 1\n",
    "genexp_idx = np.arange(0, X_genexp.shape[1] - 1) + snps_idx[-1] + 1"
   ],
   "metadata": {
    "collapsed": false,
    "pycharm": {
     "name": "#%%\n"
    }
   }
  },
  {
   "cell_type": "markdown",
   "source": [
    "# Par fold"
   ],
   "metadata": {
    "collapsed": false,
    "pycharm": {
     "name": "#%% md\n"
    }
   }
  },
  {
   "cell_type": "code",
   "execution_count": 22,
   "outputs": [
    {
     "data": {
      "text/plain": "      Unnamed: 0  mean_fit_time  std_fit_time  mean_score_time  \\\n0              0      11.586318      0.537423         0.000000   \n1              1      27.479746      1.378427         0.983673   \n2              2      23.276912      0.267877         0.490102   \n3              3      40.680767      0.219802         1.155546   \n4              4      13.031603      0.293586         0.374530   \n...          ...            ...           ...              ...   \n5915        5915      10.883300      0.199060         0.367277   \n5916        5916       7.150990      0.347359         0.314693   \n5917        5917       9.674779      0.206152         0.337452   \n5918        5918       7.022861      0.905894         0.303505   \n5919        5919       6.492469      0.250018         0.334244   \n\n      std_score_time                                          param_clf  \\\n0           0.000000                AdaBoostClassifier(random_state=15)   \n1           0.026305                AdaBoostClassifier(random_state=15)   \n2           0.024449                AdaBoostClassifier(random_state=15)   \n3           0.028942                AdaBoostClassifier(random_state=15)   \n4           0.013007                AdaBoostClassifier(random_state=15)   \n...              ...                                                ...   \n5915        0.015420  SVC(class_weight='balanced', max_iter=10000, r...   \n5916        0.013221  SVC(class_weight='balanced', max_iter=10000, r...   \n5917        0.013081  SVC(class_weight='balanced', max_iter=10000, r...   \n5918        0.025415  SVC(class_weight='balanced', max_iter=10000, r...   \n5919        0.019926  SVC(class_weight='balanced', max_iter=10000, r...   \n\n      param_clf__learning_rate                      param_dim_red  \\\n0                         0.01                        passthrough   \n1                         0.01                        passthrough   \n2                         0.01                        passthrough   \n3                         0.01                        passthrough   \n4                         0.01                        passthrough   \n...                        ...                                ...   \n5915                       NaN  StabilitySelection(threshold=0.8)   \n5916                       NaN  StabilitySelection(threshold=0.8)   \n5917                       NaN  StabilitySelection(threshold=0.8)   \n5918                       NaN  StabilitySelection(threshold=0.8)   \n5919                       NaN  StabilitySelection(threshold=0.8)   \n\n     param_dim_red_ind__genexp param_dim_red_ind__gpa  ... param_clf__kernel  \\\n0                         drop                   drop  ...               NaN   \n1                         drop                   drop  ...               NaN   \n2                         drop            passthrough  ...               NaN   \n3                         drop            passthrough  ...               NaN   \n4                  passthrough                   drop  ...               NaN   \n...                        ...                    ...  ...               ...   \n5915                      drop            passthrough  ...           sigmoid   \n5916               passthrough                   drop  ...           sigmoid   \n5917               passthrough                   drop  ...           sigmoid   \n5918               passthrough            passthrough  ...           sigmoid   \n5919               passthrough            passthrough  ...           sigmoid   \n\n                                                 params split0_test_score  \\\n0     {'clf': AdaBoostClassifier(random_state=15), '...               NaN   \n1     {'clf': AdaBoostClassifier(random_state=15), '...          0.807692   \n2     {'clf': AdaBoostClassifier(random_state=15), '...          0.857830   \n3     {'clf': AdaBoostClassifier(random_state=15), '...          0.857830   \n4     {'clf': AdaBoostClassifier(random_state=15), '...          0.742445   \n...                                                 ...               ...   \n5915  {'clf': SVC(class_weight='balanced', max_iter=...          0.860577   \n5916  {'clf': SVC(class_weight='balanced', max_iter=...          0.801511   \n5917  {'clf': SVC(class_weight='balanced', max_iter=...          0.792582   \n5918  {'clf': SVC(class_weight='balanced', max_iter=...          0.879808   \n5919  {'clf': SVC(class_weight='balanced', max_iter=...          0.872253   \n\n      split1_test_score  split2_test_score split3_test_score  \\\n0                   NaN                NaN               NaN   \n1              0.837063           0.808741          0.913986   \n2              0.817832           0.827972          0.962587   \n3              0.817832           0.827972          0.962587   \n4              0.721678           0.761189          0.885664   \n...                 ...                ...               ...   \n5915           0.819930           0.850350          0.898951   \n5916           0.790559           0.906993          0.917133   \n5917           0.782517           0.857343          0.898951   \n5918           0.790559           0.896853          0.886713   \n5919           0.800699           0.886713          0.971678   \n\n      split4_test_score  mean_test_score std_test_score rank_test_score  \n0                   NaN              NaN            NaN            5920  \n1              0.625524         0.798601       0.094799            3894  \n2              0.798601         0.852965       0.058060            2619  \n3              0.798601         0.852965       0.058060            2619  \n4              0.702448         0.762685       0.064569            4227  \n...                 ...              ...            ...             ...  \n5915           0.827972         0.851556       0.027877            2676  \n5916           0.632867         0.809813       0.102675            3744  \n5917           0.765385         0.819356       0.050528            3568  \n5918           0.857343         0.862255       0.038125            2240  \n5919           0.894755         0.885220       0.054553             971  \n\n[5920 rows x 28 columns]",
      "text/html": "<div>\n<style scoped>\n    .dataframe tbody tr th:only-of-type {\n        vertical-align: middle;\n    }\n\n    .dataframe tbody tr th {\n        vertical-align: top;\n    }\n\n    .dataframe thead th {\n        text-align: right;\n    }\n</style>\n<table border=\"1\" class=\"dataframe\">\n  <thead>\n    <tr style=\"text-align: right;\">\n      <th></th>\n      <th>Unnamed: 0</th>\n      <th>mean_fit_time</th>\n      <th>std_fit_time</th>\n      <th>mean_score_time</th>\n      <th>std_score_time</th>\n      <th>param_clf</th>\n      <th>param_clf__learning_rate</th>\n      <th>param_dim_red</th>\n      <th>param_dim_red_ind__genexp</th>\n      <th>param_dim_red_ind__gpa</th>\n      <th>...</th>\n      <th>param_clf__kernel</th>\n      <th>params</th>\n      <th>split0_test_score</th>\n      <th>split1_test_score</th>\n      <th>split2_test_score</th>\n      <th>split3_test_score</th>\n      <th>split4_test_score</th>\n      <th>mean_test_score</th>\n      <th>std_test_score</th>\n      <th>rank_test_score</th>\n    </tr>\n  </thead>\n  <tbody>\n    <tr>\n      <th>0</th>\n      <td>0</td>\n      <td>11.586318</td>\n      <td>0.537423</td>\n      <td>0.000000</td>\n      <td>0.000000</td>\n      <td>AdaBoostClassifier(random_state=15)</td>\n      <td>0.01</td>\n      <td>passthrough</td>\n      <td>drop</td>\n      <td>drop</td>\n      <td>...</td>\n      <td>NaN</td>\n      <td>{'clf': AdaBoostClassifier(random_state=15), '...</td>\n      <td>NaN</td>\n      <td>NaN</td>\n      <td>NaN</td>\n      <td>NaN</td>\n      <td>NaN</td>\n      <td>NaN</td>\n      <td>NaN</td>\n      <td>5920</td>\n    </tr>\n    <tr>\n      <th>1</th>\n      <td>1</td>\n      <td>27.479746</td>\n      <td>1.378427</td>\n      <td>0.983673</td>\n      <td>0.026305</td>\n      <td>AdaBoostClassifier(random_state=15)</td>\n      <td>0.01</td>\n      <td>passthrough</td>\n      <td>drop</td>\n      <td>drop</td>\n      <td>...</td>\n      <td>NaN</td>\n      <td>{'clf': AdaBoostClassifier(random_state=15), '...</td>\n      <td>0.807692</td>\n      <td>0.837063</td>\n      <td>0.808741</td>\n      <td>0.913986</td>\n      <td>0.625524</td>\n      <td>0.798601</td>\n      <td>0.094799</td>\n      <td>3894</td>\n    </tr>\n    <tr>\n      <th>2</th>\n      <td>2</td>\n      <td>23.276912</td>\n      <td>0.267877</td>\n      <td>0.490102</td>\n      <td>0.024449</td>\n      <td>AdaBoostClassifier(random_state=15)</td>\n      <td>0.01</td>\n      <td>passthrough</td>\n      <td>drop</td>\n      <td>passthrough</td>\n      <td>...</td>\n      <td>NaN</td>\n      <td>{'clf': AdaBoostClassifier(random_state=15), '...</td>\n      <td>0.857830</td>\n      <td>0.817832</td>\n      <td>0.827972</td>\n      <td>0.962587</td>\n      <td>0.798601</td>\n      <td>0.852965</td>\n      <td>0.058060</td>\n      <td>2619</td>\n    </tr>\n    <tr>\n      <th>3</th>\n      <td>3</td>\n      <td>40.680767</td>\n      <td>0.219802</td>\n      <td>1.155546</td>\n      <td>0.028942</td>\n      <td>AdaBoostClassifier(random_state=15)</td>\n      <td>0.01</td>\n      <td>passthrough</td>\n      <td>drop</td>\n      <td>passthrough</td>\n      <td>...</td>\n      <td>NaN</td>\n      <td>{'clf': AdaBoostClassifier(random_state=15), '...</td>\n      <td>0.857830</td>\n      <td>0.817832</td>\n      <td>0.827972</td>\n      <td>0.962587</td>\n      <td>0.798601</td>\n      <td>0.852965</td>\n      <td>0.058060</td>\n      <td>2619</td>\n    </tr>\n    <tr>\n      <th>4</th>\n      <td>4</td>\n      <td>13.031603</td>\n      <td>0.293586</td>\n      <td>0.374530</td>\n      <td>0.013007</td>\n      <td>AdaBoostClassifier(random_state=15)</td>\n      <td>0.01</td>\n      <td>passthrough</td>\n      <td>passthrough</td>\n      <td>drop</td>\n      <td>...</td>\n      <td>NaN</td>\n      <td>{'clf': AdaBoostClassifier(random_state=15), '...</td>\n      <td>0.742445</td>\n      <td>0.721678</td>\n      <td>0.761189</td>\n      <td>0.885664</td>\n      <td>0.702448</td>\n      <td>0.762685</td>\n      <td>0.064569</td>\n      <td>4227</td>\n    </tr>\n    <tr>\n      <th>...</th>\n      <td>...</td>\n      <td>...</td>\n      <td>...</td>\n      <td>...</td>\n      <td>...</td>\n      <td>...</td>\n      <td>...</td>\n      <td>...</td>\n      <td>...</td>\n      <td>...</td>\n      <td>...</td>\n      <td>...</td>\n      <td>...</td>\n      <td>...</td>\n      <td>...</td>\n      <td>...</td>\n      <td>...</td>\n      <td>...</td>\n      <td>...</td>\n      <td>...</td>\n      <td>...</td>\n    </tr>\n    <tr>\n      <th>5915</th>\n      <td>5915</td>\n      <td>10.883300</td>\n      <td>0.199060</td>\n      <td>0.367277</td>\n      <td>0.015420</td>\n      <td>SVC(class_weight='balanced', max_iter=10000, r...</td>\n      <td>NaN</td>\n      <td>StabilitySelection(threshold=0.8)</td>\n      <td>drop</td>\n      <td>passthrough</td>\n      <td>...</td>\n      <td>sigmoid</td>\n      <td>{'clf': SVC(class_weight='balanced', max_iter=...</td>\n      <td>0.860577</td>\n      <td>0.819930</td>\n      <td>0.850350</td>\n      <td>0.898951</td>\n      <td>0.827972</td>\n      <td>0.851556</td>\n      <td>0.027877</td>\n      <td>2676</td>\n    </tr>\n    <tr>\n      <th>5916</th>\n      <td>5916</td>\n      <td>7.150990</td>\n      <td>0.347359</td>\n      <td>0.314693</td>\n      <td>0.013221</td>\n      <td>SVC(class_weight='balanced', max_iter=10000, r...</td>\n      <td>NaN</td>\n      <td>StabilitySelection(threshold=0.8)</td>\n      <td>passthrough</td>\n      <td>drop</td>\n      <td>...</td>\n      <td>sigmoid</td>\n      <td>{'clf': SVC(class_weight='balanced', max_iter=...</td>\n      <td>0.801511</td>\n      <td>0.790559</td>\n      <td>0.906993</td>\n      <td>0.917133</td>\n      <td>0.632867</td>\n      <td>0.809813</td>\n      <td>0.102675</td>\n      <td>3744</td>\n    </tr>\n    <tr>\n      <th>5917</th>\n      <td>5917</td>\n      <td>9.674779</td>\n      <td>0.206152</td>\n      <td>0.337452</td>\n      <td>0.013081</td>\n      <td>SVC(class_weight='balanced', max_iter=10000, r...</td>\n      <td>NaN</td>\n      <td>StabilitySelection(threshold=0.8)</td>\n      <td>passthrough</td>\n      <td>drop</td>\n      <td>...</td>\n      <td>sigmoid</td>\n      <td>{'clf': SVC(class_weight='balanced', max_iter=...</td>\n      <td>0.792582</td>\n      <td>0.782517</td>\n      <td>0.857343</td>\n      <td>0.898951</td>\n      <td>0.765385</td>\n      <td>0.819356</td>\n      <td>0.050528</td>\n      <td>3568</td>\n    </tr>\n    <tr>\n      <th>5918</th>\n      <td>5918</td>\n      <td>7.022861</td>\n      <td>0.905894</td>\n      <td>0.303505</td>\n      <td>0.025415</td>\n      <td>SVC(class_weight='balanced', max_iter=10000, r...</td>\n      <td>NaN</td>\n      <td>StabilitySelection(threshold=0.8)</td>\n      <td>passthrough</td>\n      <td>passthrough</td>\n      <td>...</td>\n      <td>sigmoid</td>\n      <td>{'clf': SVC(class_weight='balanced', max_iter=...</td>\n      <td>0.879808</td>\n      <td>0.790559</td>\n      <td>0.896853</td>\n      <td>0.886713</td>\n      <td>0.857343</td>\n      <td>0.862255</td>\n      <td>0.038125</td>\n      <td>2240</td>\n    </tr>\n    <tr>\n      <th>5919</th>\n      <td>5919</td>\n      <td>6.492469</td>\n      <td>0.250018</td>\n      <td>0.334244</td>\n      <td>0.019926</td>\n      <td>SVC(class_weight='balanced', max_iter=10000, r...</td>\n      <td>NaN</td>\n      <td>StabilitySelection(threshold=0.8)</td>\n      <td>passthrough</td>\n      <td>passthrough</td>\n      <td>...</td>\n      <td>sigmoid</td>\n      <td>{'clf': SVC(class_weight='balanced', max_iter=...</td>\n      <td>0.872253</td>\n      <td>0.800699</td>\n      <td>0.886713</td>\n      <td>0.971678</td>\n      <td>0.894755</td>\n      <td>0.885220</td>\n      <td>0.054553</td>\n      <td>971</td>\n    </tr>\n  </tbody>\n</table>\n<p>5920 rows × 28 columns</p>\n</div>"
     },
     "execution_count": 22,
     "metadata": {},
     "output_type": "execute_result"
    }
   ],
   "source": [
    "cv_results"
   ],
   "metadata": {
    "collapsed": false,
    "pycharm": {
     "name": "#%%\n"
    }
   }
  },
  {
   "cell_type": "code",
   "execution_count": 25,
   "outputs": [],
   "source": [
    "f4_pipeline = Pipeline([(\"filter\", ColumnTransformer(transformers=[(\"snps\", standard_true_false, snps_idx)],\n",
    "                                                      remainder=\"drop\")),\n",
    "                         (\"dim_red\", KernelPCA(random_state=15, kernel=\"sigmoid\", n_components=256)),\n",
    "                         (\"clf\", SVC(class_weight=\"balanced\", max_iter=10000, random_state=seed,\n",
    "                                     kernel=\"sigmoid\", C=10))])"
   ],
   "metadata": {
    "collapsed": false,
    "pycharm": {
     "name": "#%%\n"
    }
   }
  },
  {
   "cell_type": "code",
   "execution_count": 26,
   "outputs": [],
   "source": [
    "f3_pipeline = Pipeline([(\"filter\", ColumnTransformer(transformers=[(\"gpa\", standard_true_false, gpa_idx),\n",
    "                                                                   (\"snps\", standard_true_false, snps_idx),\n",
    "                                                                   (\"genexp\", StandardScaler(), genexp_idx)],\n",
    "                                                      remainder=\"drop\")),\n",
    "                         (\"dim_red\", StabilitySelection(random_state=15, threshold=.7)),\n",
    "                         (\"clf\", RandomForestClassifier(class_weight=\"balanced\", random_state=seed,\n",
    "                                                        criterion=\"gini\"))])"
   ],
   "metadata": {
    "collapsed": false,
    "pycharm": {
     "name": "#%%\n"
    }
   }
  },
  {
   "cell_type": "code",
   "execution_count": 27,
   "outputs": [],
   "source": [
    "f2_pipeline = Pipeline([(\"filter\", ColumnTransformer(transformers=[(\"snps\", standard_true_false, snps_idx)],\n",
    "                                                      remainder=\"drop\")),\n",
    "                         (\"dim_red\", StabilitySelection(random_state=15, threshold=.9)),\n",
    "                         (\"clf\", LogisticRegression(class_weight=\"balanced\", max_iter=1000, random_state=seed,\n",
    "                                                    C=1))])"
   ],
   "metadata": {
    "collapsed": false,
    "pycharm": {
     "name": "#%%\n"
    }
   }
  },
  {
   "cell_type": "code",
   "execution_count": 28,
   "outputs": [],
   "source": [
    "f1_pipeline = Pipeline([(\"filter\", ColumnTransformer(transformers=[(\"gpa\", standard_true_false, gpa_idx)],\n",
    "                                                      remainder=\"drop\")),\n",
    "                         (\"dim_red\", KernelPCA(random_state=15, kernel=\"poly\", n_components=128)),\n",
    "                         (\"clf\", RandomForestClassifier(class_weight=\"balanced\", random_state=seed,\n",
    "                                                        criterion=\"gini\"))])"
   ],
   "metadata": {
    "collapsed": false,
    "pycharm": {
     "name": "#%%\n"
    }
   }
  },
  {
   "cell_type": "code",
   "execution_count": 29,
   "outputs": [],
   "source": [
    "f0_pipeline = Pipeline([(\"filter\", ColumnTransformer(transformers=[(\"gpa\", standard_true_false, gpa_idx),\n",
    "                                                                   (\"snps\", standard_true_false, snps_idx)],\n",
    "                                                      remainder=\"drop\")),\n",
    "                         (\"dim_red\", StabilitySelection(random_state=15, threshold=.8)),\n",
    "                         (\"clf\", RandomForestClassifier(class_weight=\"balanced\", random_state=seed,\n",
    "                                                        criterion=\"gini\"))])"
   ],
   "metadata": {
    "collapsed": false,
    "pycharm": {
     "name": "#%%\n"
    }
   }
  },
  {
   "cell_type": "code",
   "execution_count": 30,
   "outputs": [],
   "source": [
    "clf = VotingClassifier([(\"f0\", f0_pipeline), (\"f1\", f1_pipeline), (\"f2\", f2_pipeline),\n",
    "                        (\"f3\", f3_pipeline), (\"f4\", f4_pipeline)],\n",
    "                       voting=\"soft\")"
   ],
   "metadata": {
    "collapsed": false,
    "pycharm": {
     "name": "#%%\n"
    }
   }
  },
  {
   "cell_type": "code",
   "execution_count": 31,
   "outputs": [
    {
     "data": {
      "text/plain": "VotingClassifier(estimators=[('f0',\n                              Pipeline(steps=[('filter',\n                                               ColumnTransformer(transformers=[('gpa',\n                                                                                FunctionTransformer(check_inverse=False,\n                                                                                                    func=<function std_tf at 0x7fadf4be4e50>,\n                                                                                                    validate=True),\n                                                                                array([    0,     1,     2, ..., 16001, 16002, 16003])),\n                                                                               ('snps',\n                                                                                FunctionTransformer(check_inverse=False,\n                                                                                                    func=<function std_tf at 0x7fadf4be4e50>,\n                                                                                                    validate=True),\n                                                                                array([16004, 16005...\n                                               ColumnTransformer(transformers=[('snps',\n                                                                                FunctionTransformer(check_inverse=False,\n                                                                                                    func=<function std_tf at 0x7fadf4be4e50>,\n                                                                                                    validate=True),\n                                                                                array([16004, 16005, 16006, ..., 88236, 88237, 88238]))])),\n                                              ('dim_red',\n                                               KernelPCA(kernel='sigmoid',\n                                                         n_components=256,\n                                                         random_state=15)),\n                                              ('clf',\n                                               SVC(C=10,\n                                                   class_weight='balanced',\n                                                   kernel='sigmoid',\n                                                   max_iter=10000,\n                                                   random_state=15))]))],\n                 voting='soft')",
      "text/html": "<style>#sk-container-id-2 {color: black;background-color: white;}#sk-container-id-2 pre{padding: 0;}#sk-container-id-2 div.sk-toggleable {background-color: white;}#sk-container-id-2 label.sk-toggleable__label {cursor: pointer;display: block;width: 100%;margin-bottom: 0;padding: 0.3em;box-sizing: border-box;text-align: center;}#sk-container-id-2 label.sk-toggleable__label-arrow:before {content: \"▸\";float: left;margin-right: 0.25em;color: #696969;}#sk-container-id-2 label.sk-toggleable__label-arrow:hover:before {color: black;}#sk-container-id-2 div.sk-estimator:hover label.sk-toggleable__label-arrow:before {color: black;}#sk-container-id-2 div.sk-toggleable__content {max-height: 0;max-width: 0;overflow: hidden;text-align: left;background-color: #f0f8ff;}#sk-container-id-2 div.sk-toggleable__content pre {margin: 0.2em;color: black;border-radius: 0.25em;background-color: #f0f8ff;}#sk-container-id-2 input.sk-toggleable__control:checked~div.sk-toggleable__content {max-height: 200px;max-width: 100%;overflow: auto;}#sk-container-id-2 input.sk-toggleable__control:checked~label.sk-toggleable__label-arrow:before {content: \"▾\";}#sk-container-id-2 div.sk-estimator input.sk-toggleable__control:checked~label.sk-toggleable__label {background-color: #d4ebff;}#sk-container-id-2 div.sk-label input.sk-toggleable__control:checked~label.sk-toggleable__label {background-color: #d4ebff;}#sk-container-id-2 input.sk-hidden--visually {border: 0;clip: rect(1px 1px 1px 1px);clip: rect(1px, 1px, 1px, 1px);height: 1px;margin: -1px;overflow: hidden;padding: 0;position: absolute;width: 1px;}#sk-container-id-2 div.sk-estimator {font-family: monospace;background-color: #f0f8ff;border: 1px dotted black;border-radius: 0.25em;box-sizing: border-box;margin-bottom: 0.5em;}#sk-container-id-2 div.sk-estimator:hover {background-color: #d4ebff;}#sk-container-id-2 div.sk-parallel-item::after {content: \"\";width: 100%;border-bottom: 1px solid gray;flex-grow: 1;}#sk-container-id-2 div.sk-label:hover label.sk-toggleable__label {background-color: #d4ebff;}#sk-container-id-2 div.sk-serial::before {content: \"\";position: absolute;border-left: 1px solid gray;box-sizing: border-box;top: 0;bottom: 0;left: 50%;z-index: 0;}#sk-container-id-2 div.sk-serial {display: flex;flex-direction: column;align-items: center;background-color: white;padding-right: 0.2em;padding-left: 0.2em;position: relative;}#sk-container-id-2 div.sk-item {position: relative;z-index: 1;}#sk-container-id-2 div.sk-parallel {display: flex;align-items: stretch;justify-content: center;background-color: white;position: relative;}#sk-container-id-2 div.sk-item::before, #sk-container-id-2 div.sk-parallel-item::before {content: \"\";position: absolute;border-left: 1px solid gray;box-sizing: border-box;top: 0;bottom: 0;left: 50%;z-index: -1;}#sk-container-id-2 div.sk-parallel-item {display: flex;flex-direction: column;z-index: 1;position: relative;background-color: white;}#sk-container-id-2 div.sk-parallel-item:first-child::after {align-self: flex-end;width: 50%;}#sk-container-id-2 div.sk-parallel-item:last-child::after {align-self: flex-start;width: 50%;}#sk-container-id-2 div.sk-parallel-item:only-child::after {width: 0;}#sk-container-id-2 div.sk-dashed-wrapped {border: 1px dashed gray;margin: 0 0.4em 0.5em 0.4em;box-sizing: border-box;padding-bottom: 0.4em;background-color: white;}#sk-container-id-2 div.sk-label label {font-family: monospace;font-weight: bold;display: inline-block;line-height: 1.2em;}#sk-container-id-2 div.sk-label-container {text-align: center;}#sk-container-id-2 div.sk-container {/* jupyter's `normalize.less` sets `[hidden] { display: none; }` but bootstrap.min.css set `[hidden] { display: none !important; }` so we also need the `!important` here to be able to override the default hidden behavior on the sphinx rendered scikit-learn.org. See: https://github.com/scikit-learn/scikit-learn/issues/21755 */display: inline-block !important;position: relative;}#sk-container-id-2 div.sk-text-repr-fallback {display: none;}</style><div id=\"sk-container-id-2\" class=\"sk-top-container\"><div class=\"sk-text-repr-fallback\"><pre>VotingClassifier(estimators=[(&#x27;f0&#x27;,\n                              Pipeline(steps=[(&#x27;filter&#x27;,\n                                               ColumnTransformer(transformers=[(&#x27;gpa&#x27;,\n                                                                                FunctionTransformer(check_inverse=False,\n                                                                                                    func=&lt;function std_tf at 0x7fadf4be4e50&gt;,\n                                                                                                    validate=True),\n                                                                                array([    0,     1,     2, ..., 16001, 16002, 16003])),\n                                                                               (&#x27;snps&#x27;,\n                                                                                FunctionTransformer(check_inverse=False,\n                                                                                                    func=&lt;function std_tf at 0x7fadf4be4e50&gt;,\n                                                                                                    validate=True),\n                                                                                array([16004, 16005...\n                                               ColumnTransformer(transformers=[(&#x27;snps&#x27;,\n                                                                                FunctionTransformer(check_inverse=False,\n                                                                                                    func=&lt;function std_tf at 0x7fadf4be4e50&gt;,\n                                                                                                    validate=True),\n                                                                                array([16004, 16005, 16006, ..., 88236, 88237, 88238]))])),\n                                              (&#x27;dim_red&#x27;,\n                                               KernelPCA(kernel=&#x27;sigmoid&#x27;,\n                                                         n_components=256,\n                                                         random_state=15)),\n                                              (&#x27;clf&#x27;,\n                                               SVC(C=10,\n                                                   class_weight=&#x27;balanced&#x27;,\n                                                   kernel=&#x27;sigmoid&#x27;,\n                                                   max_iter=10000,\n                                                   random_state=15))]))],\n                 voting=&#x27;soft&#x27;)</pre><b>In a Jupyter environment, please rerun this cell to show the HTML representation or trust the notebook. <br />On GitHub, the HTML representation is unable to render, please try loading this page with nbviewer.org.</b></div><div class=\"sk-container\" hidden><div class=\"sk-item sk-dashed-wrapped\"><div class=\"sk-label-container\"><div class=\"sk-label sk-toggleable\"><input class=\"sk-toggleable__control sk-hidden--visually\" id=\"sk-estimator-id-19\" type=\"checkbox\" ><label for=\"sk-estimator-id-19\" class=\"sk-toggleable__label sk-toggleable__label-arrow\">VotingClassifier</label><div class=\"sk-toggleable__content\"><pre>VotingClassifier(estimators=[(&#x27;f0&#x27;,\n                              Pipeline(steps=[(&#x27;filter&#x27;,\n                                               ColumnTransformer(transformers=[(&#x27;gpa&#x27;,\n                                                                                FunctionTransformer(check_inverse=False,\n                                                                                                    func=&lt;function std_tf at 0x7fadf4be4e50&gt;,\n                                                                                                    validate=True),\n                                                                                array([    0,     1,     2, ..., 16001, 16002, 16003])),\n                                                                               (&#x27;snps&#x27;,\n                                                                                FunctionTransformer(check_inverse=False,\n                                                                                                    func=&lt;function std_tf at 0x7fadf4be4e50&gt;,\n                                                                                                    validate=True),\n                                                                                array([16004, 16005...\n                                               ColumnTransformer(transformers=[(&#x27;snps&#x27;,\n                                                                                FunctionTransformer(check_inverse=False,\n                                                                                                    func=&lt;function std_tf at 0x7fadf4be4e50&gt;,\n                                                                                                    validate=True),\n                                                                                array([16004, 16005, 16006, ..., 88236, 88237, 88238]))])),\n                                              (&#x27;dim_red&#x27;,\n                                               KernelPCA(kernel=&#x27;sigmoid&#x27;,\n                                                         n_components=256,\n                                                         random_state=15)),\n                                              (&#x27;clf&#x27;,\n                                               SVC(C=10,\n                                                   class_weight=&#x27;balanced&#x27;,\n                                                   kernel=&#x27;sigmoid&#x27;,\n                                                   max_iter=10000,\n                                                   random_state=15))]))],\n                 voting=&#x27;soft&#x27;)</pre></div></div></div><div class=\"sk-parallel\"><div class=\"sk-parallel-item\"><div class=\"sk-item\"><div class=\"sk-label-container\"><div class=\"sk-label sk-toggleable\"><label>f0</label></div></div><div class=\"sk-serial\"><div class=\"sk-item\"><div class=\"sk-serial\"><div class=\"sk-item sk-dashed-wrapped\"><div class=\"sk-label-container\"><div class=\"sk-label sk-toggleable\"><input class=\"sk-toggleable__control sk-hidden--visually\" id=\"sk-estimator-id-20\" type=\"checkbox\" ><label for=\"sk-estimator-id-20\" class=\"sk-toggleable__label sk-toggleable__label-arrow\">filter: ColumnTransformer</label><div class=\"sk-toggleable__content\"><pre>ColumnTransformer(transformers=[(&#x27;gpa&#x27;,\n                                 FunctionTransformer(check_inverse=False,\n                                                     func=&lt;function std_tf at 0x7fadf4be4e50&gt;,\n                                                     validate=True),\n                                 array([    0,     1,     2, ..., 16001, 16002, 16003])),\n                                (&#x27;snps&#x27;,\n                                 FunctionTransformer(check_inverse=False,\n                                                     func=&lt;function std_tf at 0x7fadf4be4e50&gt;,\n                                                     validate=True),\n                                 array([16004, 16005, 16006, ..., 88236, 88237, 88238]))])</pre></div></div></div><div class=\"sk-parallel\"><div class=\"sk-parallel-item\"><div class=\"sk-item\"><div class=\"sk-label-container\"><div class=\"sk-label sk-toggleable\"><input class=\"sk-toggleable__control sk-hidden--visually\" id=\"sk-estimator-id-21\" type=\"checkbox\" ><label for=\"sk-estimator-id-21\" class=\"sk-toggleable__label sk-toggleable__label-arrow\">gpa</label><div class=\"sk-toggleable__content\"><pre>[    0     1     2 ... 16001 16002 16003]</pre></div></div></div><div class=\"sk-serial\"><div class=\"sk-item\"><div class=\"sk-estimator sk-toggleable\"><input class=\"sk-toggleable__control sk-hidden--visually\" id=\"sk-estimator-id-22\" type=\"checkbox\" ><label for=\"sk-estimator-id-22\" class=\"sk-toggleable__label sk-toggleable__label-arrow\">FunctionTransformer</label><div class=\"sk-toggleable__content\"><pre>FunctionTransformer(check_inverse=False,\n                    func=&lt;function std_tf at 0x7fadf4be4e50&gt;, validate=True)</pre></div></div></div></div></div></div><div class=\"sk-parallel-item\"><div class=\"sk-item\"><div class=\"sk-label-container\"><div class=\"sk-label sk-toggleable\"><input class=\"sk-toggleable__control sk-hidden--visually\" id=\"sk-estimator-id-23\" type=\"checkbox\" ><label for=\"sk-estimator-id-23\" class=\"sk-toggleable__label sk-toggleable__label-arrow\">snps</label><div class=\"sk-toggleable__content\"><pre>[16004 16005 16006 ... 88236 88237 88238]</pre></div></div></div><div class=\"sk-serial\"><div class=\"sk-item\"><div class=\"sk-estimator sk-toggleable\"><input class=\"sk-toggleable__control sk-hidden--visually\" id=\"sk-estimator-id-24\" type=\"checkbox\" ><label for=\"sk-estimator-id-24\" class=\"sk-toggleable__label sk-toggleable__label-arrow\">FunctionTransformer</label><div class=\"sk-toggleable__content\"><pre>FunctionTransformer(check_inverse=False,\n                    func=&lt;function std_tf at 0x7fadf4be4e50&gt;, validate=True)</pre></div></div></div></div></div></div></div></div><div class=\"sk-item sk-dashed-wrapped\"><div class=\"sk-label-container\"><div class=\"sk-label sk-toggleable\"><input class=\"sk-toggleable__control sk-hidden--visually\" id=\"sk-estimator-id-25\" type=\"checkbox\" ><label for=\"sk-estimator-id-25\" class=\"sk-toggleable__label sk-toggleable__label-arrow\">dim_red: StabilitySelection</label><div class=\"sk-toggleable__content\"><pre>StabilitySelection(threshold=0.8)</pre></div></div></div><div class=\"sk-parallel\"><div class=\"sk-parallel-item\"><div class=\"sk-item\"><div class=\"sk-label-container\"><div class=\"sk-label sk-toggleable\"><input class=\"sk-toggleable__control sk-hidden--visually\" id=\"sk-estimator-id-26\" type=\"checkbox\" ><label for=\"sk-estimator-id-26\" class=\"sk-toggleable__label sk-toggleable__label-arrow\">estimator: LogisticRegression</label><div class=\"sk-toggleable__content\"><pre>LogisticRegression(class_weight=&#x27;balanced&#x27;, penalty=&#x27;l1&#x27;, random_state=15,\n                   solver=&#x27;liblinear&#x27;)</pre></div></div></div><div class=\"sk-serial\"><div class=\"sk-item\"><div class=\"sk-estimator sk-toggleable\"><input class=\"sk-toggleable__control sk-hidden--visually\" id=\"sk-estimator-id-27\" type=\"checkbox\" ><label for=\"sk-estimator-id-27\" class=\"sk-toggleable__label sk-toggleable__label-arrow\">LogisticRegression</label><div class=\"sk-toggleable__content\"><pre>LogisticRegression(class_weight=&#x27;balanced&#x27;, penalty=&#x27;l1&#x27;, random_state=15,\n                   solver=&#x27;liblinear&#x27;)</pre></div></div></div></div></div></div></div></div><div class=\"sk-item\"><div class=\"sk-estimator sk-toggleable\"><input class=\"sk-toggleable__control sk-hidden--visually\" id=\"sk-estimator-id-28\" type=\"checkbox\" ><label for=\"sk-estimator-id-28\" class=\"sk-toggleable__label sk-toggleable__label-arrow\">RandomForestClassifier</label><div class=\"sk-toggleable__content\"><pre>RandomForestClassifier(class_weight=&#x27;balanced&#x27;, random_state=15)</pre></div></div></div></div></div></div></div></div><div class=\"sk-parallel-item\"><div class=\"sk-item\"><div class=\"sk-label-container\"><div class=\"sk-label sk-toggleable\"><label>f1</label></div></div><div class=\"sk-serial\"><div class=\"sk-item\"><div class=\"sk-serial\"><div class=\"sk-item sk-dashed-wrapped\"><div class=\"sk-label-container\"><div class=\"sk-label sk-toggleable\"><input class=\"sk-toggleable__control sk-hidden--visually\" id=\"sk-estimator-id-29\" type=\"checkbox\" ><label for=\"sk-estimator-id-29\" class=\"sk-toggleable__label sk-toggleable__label-arrow\">filter: ColumnTransformer</label><div class=\"sk-toggleable__content\"><pre>ColumnTransformer(transformers=[(&#x27;gpa&#x27;,\n                                 FunctionTransformer(check_inverse=False,\n                                                     func=&lt;function std_tf at 0x7fadf4be4e50&gt;,\n                                                     validate=True),\n                                 array([    0,     1,     2, ..., 16001, 16002, 16003]))])</pre></div></div></div><div class=\"sk-parallel\"><div class=\"sk-parallel-item\"><div class=\"sk-item\"><div class=\"sk-label-container\"><div class=\"sk-label sk-toggleable\"><input class=\"sk-toggleable__control sk-hidden--visually\" id=\"sk-estimator-id-30\" type=\"checkbox\" ><label for=\"sk-estimator-id-30\" class=\"sk-toggleable__label sk-toggleable__label-arrow\">gpa</label><div class=\"sk-toggleable__content\"><pre>[    0     1     2 ... 16001 16002 16003]</pre></div></div></div><div class=\"sk-serial\"><div class=\"sk-item\"><div class=\"sk-estimator sk-toggleable\"><input class=\"sk-toggleable__control sk-hidden--visually\" id=\"sk-estimator-id-31\" type=\"checkbox\" ><label for=\"sk-estimator-id-31\" class=\"sk-toggleable__label sk-toggleable__label-arrow\">FunctionTransformer</label><div class=\"sk-toggleable__content\"><pre>FunctionTransformer(check_inverse=False,\n                    func=&lt;function std_tf at 0x7fadf4be4e50&gt;, validate=True)</pre></div></div></div></div></div></div></div></div><div class=\"sk-item\"><div class=\"sk-estimator sk-toggleable\"><input class=\"sk-toggleable__control sk-hidden--visually\" id=\"sk-estimator-id-32\" type=\"checkbox\" ><label for=\"sk-estimator-id-32\" class=\"sk-toggleable__label sk-toggleable__label-arrow\">KernelPCA</label><div class=\"sk-toggleable__content\"><pre>KernelPCA(kernel=&#x27;poly&#x27;, n_components=128, random_state=15)</pre></div></div></div><div class=\"sk-item\"><div class=\"sk-estimator sk-toggleable\"><input class=\"sk-toggleable__control sk-hidden--visually\" id=\"sk-estimator-id-33\" type=\"checkbox\" ><label for=\"sk-estimator-id-33\" class=\"sk-toggleable__label sk-toggleable__label-arrow\">RandomForestClassifier</label><div class=\"sk-toggleable__content\"><pre>RandomForestClassifier(class_weight=&#x27;balanced&#x27;, random_state=15)</pre></div></div></div></div></div></div></div></div><div class=\"sk-parallel-item\"><div class=\"sk-item\"><div class=\"sk-label-container\"><div class=\"sk-label sk-toggleable\"><label>f2</label></div></div><div class=\"sk-serial\"><div class=\"sk-item\"><div class=\"sk-serial\"><div class=\"sk-item sk-dashed-wrapped\"><div class=\"sk-label-container\"><div class=\"sk-label sk-toggleable\"><input class=\"sk-toggleable__control sk-hidden--visually\" id=\"sk-estimator-id-34\" type=\"checkbox\" ><label for=\"sk-estimator-id-34\" class=\"sk-toggleable__label sk-toggleable__label-arrow\">filter: ColumnTransformer</label><div class=\"sk-toggleable__content\"><pre>ColumnTransformer(transformers=[(&#x27;snps&#x27;,\n                                 FunctionTransformer(check_inverse=False,\n                                                     func=&lt;function std_tf at 0x7fadf4be4e50&gt;,\n                                                     validate=True),\n                                 array([16004, 16005, 16006, ..., 88236, 88237, 88238]))])</pre></div></div></div><div class=\"sk-parallel\"><div class=\"sk-parallel-item\"><div class=\"sk-item\"><div class=\"sk-label-container\"><div class=\"sk-label sk-toggleable\"><input class=\"sk-toggleable__control sk-hidden--visually\" id=\"sk-estimator-id-35\" type=\"checkbox\" ><label for=\"sk-estimator-id-35\" class=\"sk-toggleable__label sk-toggleable__label-arrow\">snps</label><div class=\"sk-toggleable__content\"><pre>[16004 16005 16006 ... 88236 88237 88238]</pre></div></div></div><div class=\"sk-serial\"><div class=\"sk-item\"><div class=\"sk-estimator sk-toggleable\"><input class=\"sk-toggleable__control sk-hidden--visually\" id=\"sk-estimator-id-36\" type=\"checkbox\" ><label for=\"sk-estimator-id-36\" class=\"sk-toggleable__label sk-toggleable__label-arrow\">FunctionTransformer</label><div class=\"sk-toggleable__content\"><pre>FunctionTransformer(check_inverse=False,\n                    func=&lt;function std_tf at 0x7fadf4be4e50&gt;, validate=True)</pre></div></div></div></div></div></div></div></div><div class=\"sk-item sk-dashed-wrapped\"><div class=\"sk-label-container\"><div class=\"sk-label sk-toggleable\"><input class=\"sk-toggleable__control sk-hidden--visually\" id=\"sk-estimator-id-37\" type=\"checkbox\" ><label for=\"sk-estimator-id-37\" class=\"sk-toggleable__label sk-toggleable__label-arrow\">dim_red: StabilitySelection</label><div class=\"sk-toggleable__content\"><pre>StabilitySelection(threshold=0.9)</pre></div></div></div><div class=\"sk-parallel\"><div class=\"sk-parallel-item\"><div class=\"sk-item\"><div class=\"sk-label-container\"><div class=\"sk-label sk-toggleable\"><input class=\"sk-toggleable__control sk-hidden--visually\" id=\"sk-estimator-id-38\" type=\"checkbox\" ><label for=\"sk-estimator-id-38\" class=\"sk-toggleable__label sk-toggleable__label-arrow\">estimator: LogisticRegression</label><div class=\"sk-toggleable__content\"><pre>LogisticRegression(class_weight=&#x27;balanced&#x27;, penalty=&#x27;l1&#x27;, random_state=15,\n                   solver=&#x27;liblinear&#x27;)</pre></div></div></div><div class=\"sk-serial\"><div class=\"sk-item\"><div class=\"sk-estimator sk-toggleable\"><input class=\"sk-toggleable__control sk-hidden--visually\" id=\"sk-estimator-id-39\" type=\"checkbox\" ><label for=\"sk-estimator-id-39\" class=\"sk-toggleable__label sk-toggleable__label-arrow\">LogisticRegression</label><div class=\"sk-toggleable__content\"><pre>LogisticRegression(class_weight=&#x27;balanced&#x27;, penalty=&#x27;l1&#x27;, random_state=15,\n                   solver=&#x27;liblinear&#x27;)</pre></div></div></div></div></div></div></div></div><div class=\"sk-item\"><div class=\"sk-estimator sk-toggleable\"><input class=\"sk-toggleable__control sk-hidden--visually\" id=\"sk-estimator-id-40\" type=\"checkbox\" ><label for=\"sk-estimator-id-40\" class=\"sk-toggleable__label sk-toggleable__label-arrow\">LogisticRegression</label><div class=\"sk-toggleable__content\"><pre>LogisticRegression(C=1, class_weight=&#x27;balanced&#x27;, max_iter=1000, random_state=15)</pre></div></div></div></div></div></div></div></div><div class=\"sk-parallel-item\"><div class=\"sk-item\"><div class=\"sk-label-container\"><div class=\"sk-label sk-toggleable\"><label>f3</label></div></div><div class=\"sk-serial\"><div class=\"sk-item\"><div class=\"sk-serial\"><div class=\"sk-item sk-dashed-wrapped\"><div class=\"sk-label-container\"><div class=\"sk-label sk-toggleable\"><input class=\"sk-toggleable__control sk-hidden--visually\" id=\"sk-estimator-id-41\" type=\"checkbox\" ><label for=\"sk-estimator-id-41\" class=\"sk-toggleable__label sk-toggleable__label-arrow\">filter: ColumnTransformer</label><div class=\"sk-toggleable__content\"><pre>ColumnTransformer(transformers=[(&#x27;gpa&#x27;,\n                                 FunctionTransformer(check_inverse=False,\n                                                     func=&lt;function std_tf at 0x7fadf4be4e50&gt;,\n                                                     validate=True),\n                                 array([    0,     1,     2, ..., 16001, 16002, 16003])),\n                                (&#x27;snps&#x27;,\n                                 FunctionTransformer(check_inverse=False,\n                                                     func=&lt;function std_tf at 0x7fadf4be4e50&gt;,\n                                                     validate=True),\n                                 array([16004, 16005, 16006, ..., 88236, 88237, 88238])),\n                                (&#x27;genexp&#x27;, StandardScaler(),\n                                 array([88239, 88240, 88241, ..., 94261, 94262, 94263]))])</pre></div></div></div><div class=\"sk-parallel\"><div class=\"sk-parallel-item\"><div class=\"sk-item\"><div class=\"sk-label-container\"><div class=\"sk-label sk-toggleable\"><input class=\"sk-toggleable__control sk-hidden--visually\" id=\"sk-estimator-id-42\" type=\"checkbox\" ><label for=\"sk-estimator-id-42\" class=\"sk-toggleable__label sk-toggleable__label-arrow\">gpa</label><div class=\"sk-toggleable__content\"><pre>[    0     1     2 ... 16001 16002 16003]</pre></div></div></div><div class=\"sk-serial\"><div class=\"sk-item\"><div class=\"sk-estimator sk-toggleable\"><input class=\"sk-toggleable__control sk-hidden--visually\" id=\"sk-estimator-id-43\" type=\"checkbox\" ><label for=\"sk-estimator-id-43\" class=\"sk-toggleable__label sk-toggleable__label-arrow\">FunctionTransformer</label><div class=\"sk-toggleable__content\"><pre>FunctionTransformer(check_inverse=False,\n                    func=&lt;function std_tf at 0x7fadf4be4e50&gt;, validate=True)</pre></div></div></div></div></div></div><div class=\"sk-parallel-item\"><div class=\"sk-item\"><div class=\"sk-label-container\"><div class=\"sk-label sk-toggleable\"><input class=\"sk-toggleable__control sk-hidden--visually\" id=\"sk-estimator-id-44\" type=\"checkbox\" ><label for=\"sk-estimator-id-44\" class=\"sk-toggleable__label sk-toggleable__label-arrow\">snps</label><div class=\"sk-toggleable__content\"><pre>[16004 16005 16006 ... 88236 88237 88238]</pre></div></div></div><div class=\"sk-serial\"><div class=\"sk-item\"><div class=\"sk-estimator sk-toggleable\"><input class=\"sk-toggleable__control sk-hidden--visually\" id=\"sk-estimator-id-45\" type=\"checkbox\" ><label for=\"sk-estimator-id-45\" class=\"sk-toggleable__label sk-toggleable__label-arrow\">FunctionTransformer</label><div class=\"sk-toggleable__content\"><pre>FunctionTransformer(check_inverse=False,\n                    func=&lt;function std_tf at 0x7fadf4be4e50&gt;, validate=True)</pre></div></div></div></div></div></div><div class=\"sk-parallel-item\"><div class=\"sk-item\"><div class=\"sk-label-container\"><div class=\"sk-label sk-toggleable\"><input class=\"sk-toggleable__control sk-hidden--visually\" id=\"sk-estimator-id-46\" type=\"checkbox\" ><label for=\"sk-estimator-id-46\" class=\"sk-toggleable__label sk-toggleable__label-arrow\">genexp</label><div class=\"sk-toggleable__content\"><pre>[88239 88240 88241 ... 94261 94262 94263]</pre></div></div></div><div class=\"sk-serial\"><div class=\"sk-item\"><div class=\"sk-estimator sk-toggleable\"><input class=\"sk-toggleable__control sk-hidden--visually\" id=\"sk-estimator-id-47\" type=\"checkbox\" ><label for=\"sk-estimator-id-47\" class=\"sk-toggleable__label sk-toggleable__label-arrow\">StandardScaler</label><div class=\"sk-toggleable__content\"><pre>StandardScaler()</pre></div></div></div></div></div></div></div></div><div class=\"sk-item sk-dashed-wrapped\"><div class=\"sk-label-container\"><div class=\"sk-label sk-toggleable\"><input class=\"sk-toggleable__control sk-hidden--visually\" id=\"sk-estimator-id-48\" type=\"checkbox\" ><label for=\"sk-estimator-id-48\" class=\"sk-toggleable__label sk-toggleable__label-arrow\">dim_red: StabilitySelection</label><div class=\"sk-toggleable__content\"><pre>StabilitySelection(threshold=0.7)</pre></div></div></div><div class=\"sk-parallel\"><div class=\"sk-parallel-item\"><div class=\"sk-item\"><div class=\"sk-label-container\"><div class=\"sk-label sk-toggleable\"><input class=\"sk-toggleable__control sk-hidden--visually\" id=\"sk-estimator-id-49\" type=\"checkbox\" ><label for=\"sk-estimator-id-49\" class=\"sk-toggleable__label sk-toggleable__label-arrow\">estimator: LogisticRegression</label><div class=\"sk-toggleable__content\"><pre>LogisticRegression(class_weight=&#x27;balanced&#x27;, penalty=&#x27;l1&#x27;, random_state=15,\n                   solver=&#x27;liblinear&#x27;)</pre></div></div></div><div class=\"sk-serial\"><div class=\"sk-item\"><div class=\"sk-estimator sk-toggleable\"><input class=\"sk-toggleable__control sk-hidden--visually\" id=\"sk-estimator-id-50\" type=\"checkbox\" ><label for=\"sk-estimator-id-50\" class=\"sk-toggleable__label sk-toggleable__label-arrow\">LogisticRegression</label><div class=\"sk-toggleable__content\"><pre>LogisticRegression(class_weight=&#x27;balanced&#x27;, penalty=&#x27;l1&#x27;, random_state=15,\n                   solver=&#x27;liblinear&#x27;)</pre></div></div></div></div></div></div></div></div><div class=\"sk-item\"><div class=\"sk-estimator sk-toggleable\"><input class=\"sk-toggleable__control sk-hidden--visually\" id=\"sk-estimator-id-51\" type=\"checkbox\" ><label for=\"sk-estimator-id-51\" class=\"sk-toggleable__label sk-toggleable__label-arrow\">RandomForestClassifier</label><div class=\"sk-toggleable__content\"><pre>RandomForestClassifier(class_weight=&#x27;balanced&#x27;, random_state=15)</pre></div></div></div></div></div></div></div></div><div class=\"sk-parallel-item\"><div class=\"sk-item\"><div class=\"sk-label-container\"><div class=\"sk-label sk-toggleable\"><label>f4</label></div></div><div class=\"sk-serial\"><div class=\"sk-item\"><div class=\"sk-serial\"><div class=\"sk-item sk-dashed-wrapped\"><div class=\"sk-label-container\"><div class=\"sk-label sk-toggleable\"><input class=\"sk-toggleable__control sk-hidden--visually\" id=\"sk-estimator-id-52\" type=\"checkbox\" ><label for=\"sk-estimator-id-52\" class=\"sk-toggleable__label sk-toggleable__label-arrow\">filter: ColumnTransformer</label><div class=\"sk-toggleable__content\"><pre>ColumnTransformer(transformers=[(&#x27;snps&#x27;,\n                                 FunctionTransformer(check_inverse=False,\n                                                     func=&lt;function std_tf at 0x7fadf4be4e50&gt;,\n                                                     validate=True),\n                                 array([16004, 16005, 16006, ..., 88236, 88237, 88238]))])</pre></div></div></div><div class=\"sk-parallel\"><div class=\"sk-parallel-item\"><div class=\"sk-item\"><div class=\"sk-label-container\"><div class=\"sk-label sk-toggleable\"><input class=\"sk-toggleable__control sk-hidden--visually\" id=\"sk-estimator-id-53\" type=\"checkbox\" ><label for=\"sk-estimator-id-53\" class=\"sk-toggleable__label sk-toggleable__label-arrow\">snps</label><div class=\"sk-toggleable__content\"><pre>[16004 16005 16006 ... 88236 88237 88238]</pre></div></div></div><div class=\"sk-serial\"><div class=\"sk-item\"><div class=\"sk-estimator sk-toggleable\"><input class=\"sk-toggleable__control sk-hidden--visually\" id=\"sk-estimator-id-54\" type=\"checkbox\" ><label for=\"sk-estimator-id-54\" class=\"sk-toggleable__label sk-toggleable__label-arrow\">FunctionTransformer</label><div class=\"sk-toggleable__content\"><pre>FunctionTransformer(check_inverse=False,\n                    func=&lt;function std_tf at 0x7fadf4be4e50&gt;, validate=True)</pre></div></div></div></div></div></div></div></div><div class=\"sk-item\"><div class=\"sk-estimator sk-toggleable\"><input class=\"sk-toggleable__control sk-hidden--visually\" id=\"sk-estimator-id-55\" type=\"checkbox\" ><label for=\"sk-estimator-id-55\" class=\"sk-toggleable__label sk-toggleable__label-arrow\">KernelPCA</label><div class=\"sk-toggleable__content\"><pre>KernelPCA(kernel=&#x27;sigmoid&#x27;, n_components=256, random_state=15)</pre></div></div></div><div class=\"sk-item\"><div class=\"sk-estimator sk-toggleable\"><input class=\"sk-toggleable__control sk-hidden--visually\" id=\"sk-estimator-id-56\" type=\"checkbox\" ><label for=\"sk-estimator-id-56\" class=\"sk-toggleable__label sk-toggleable__label-arrow\">SVC</label><div class=\"sk-toggleable__content\"><pre>SVC(C=10, class_weight=&#x27;balanced&#x27;, kernel=&#x27;sigmoid&#x27;, max_iter=10000,\n    random_state=15)</pre></div></div></div></div></div></div></div></div></div></div></div></div>"
     },
     "execution_count": 31,
     "metadata": {},
     "output_type": "execute_result"
    }
   ],
   "source": [
    "clf"
   ],
   "metadata": {
    "collapsed": false,
    "pycharm": {
     "name": "#%%\n"
    }
   }
  },
  {
   "cell_type": "code",
   "execution_count": 32,
   "outputs": [
    {
     "name": "stderr",
     "output_type": "stream",
     "text": [
      "\n",
      "KeyboardInterrupt\n",
      "\n"
     ]
    }
   ],
   "source": [
    "res = cross_val_score(clf, np.concatenate([X_gpa, X_snps, X_genexp], axis=1), y, scoring=\"balanced_accuracy\",\n",
    "                      n_jobs=n_jobs)"
   ],
   "metadata": {
    "collapsed": false,
    "pycharm": {
     "name": "#%%\n"
    }
   }
  },
  {
   "cell_type": "code",
   "execution_count": null,
   "outputs": [],
   "source": [
    "res.mean()"
   ],
   "metadata": {
    "collapsed": false,
    "pycharm": {
     "name": "#%%\n"
    }
   }
  },
  {
   "cell_type": "markdown",
   "source": [
    "# Par régresseur"
   ],
   "metadata": {
    "collapsed": false,
    "pycharm": {
     "name": "#%% md\n"
    }
   }
  },
  {
   "cell_type": "code",
   "execution_count": 7,
   "outputs": [],
   "source": [
    "gpa_results = cv_results.loc[(cv_results[\"param_dim_red_ind__gpa\"] == \"passthrough\") &\n",
    "                             (cv_results[\"param_dim_red_ind__snps\"] == \"drop\") &\n",
    "                             (cv_results[\"param_dim_red_ind__genexp\"] == \"drop\")]\n",
    "best_gpa = gpa_results.sort_values(\"mean_test_score\", ascending=False).iloc[0]"
   ],
   "metadata": {
    "collapsed": false,
    "pycharm": {
     "name": "#%%\n"
    }
   }
  },
  {
   "cell_type": "code",
   "execution_count": 8,
   "outputs": [],
   "source": [
    "snps_results = cv_results.loc[(cv_results[\"param_dim_red_ind__gpa\"] == \"drop\") &\n",
    "                              (cv_results[\"param_dim_red_ind__snps\"] == \"passthrough\") &\n",
    "                              (cv_results[\"param_dim_red_ind__genexp\"] == \"drop\")]\n",
    "best_snps = snps_results.sort_values(\"mean_test_score\", ascending=False).iloc[0]"
   ],
   "metadata": {
    "collapsed": false,
    "pycharm": {
     "name": "#%%\n"
    }
   }
  },
  {
   "cell_type": "code",
   "execution_count": 9,
   "outputs": [],
   "source": [
    "genexp_results = cv_results.loc[(cv_results[\"param_dim_red_ind__gpa\"] == \"drop\") &\n",
    "                                (cv_results[\"param_dim_red_ind__snps\"] == \"drop\") &\n",
    "                                (cv_results[\"param_dim_red_ind__genexp\"] == \"passthrough\")]\n",
    "best_genexp = genexp_results.sort_values(\"mean_test_score\", ascending=False).iloc[0]"
   ],
   "metadata": {
    "collapsed": false,
    "pycharm": {
     "name": "#%%\n"
    }
   }
  },
  {
   "cell_type": "code",
   "execution_count": 10,
   "outputs": [],
   "source": [
    "gpa_pipeline = Pipeline([(\"filter\", ColumnTransformer(transformers=[(\"gpa\", standard_true_false, gpa_idx), ],\n",
    "                                                      remainder=\"drop\")),\n",
    "                         (\"dim_red\", StabilitySelection(random_state=15, threshold=.9)),\n",
    "                         (\"clf\", RandomForestClassifier(class_weight=\"balanced\", random_state=seed,\n",
    "                                                        criterion=\"gini\"))])"
   ],
   "metadata": {
    "collapsed": false,
    "pycharm": {
     "name": "#%%\n"
    }
   }
  },
  {
   "cell_type": "code",
   "execution_count": 11,
   "outputs": [],
   "source": [
    "snps_pipeline = Pipeline([(\"filter\", ColumnTransformer(transformers=[(\"snps\", standard_true_false, snps_idx), ],\n",
    "                                                      remainder=\"drop\")),\n",
    "                          (\"dim_red\", KernelPCA(random_state=15, kernel=\"rbf\", n_components=128)),\n",
    "                          (\"clf\", LogisticRegression(class_weight=\"balanced\", max_iter=1000, random_state=seed,\n",
    "                                                     C=10))])"
   ],
   "metadata": {
    "collapsed": false,
    "pycharm": {
     "name": "#%%\n"
    }
   }
  },
  {
   "cell_type": "code",
   "execution_count": 12,
   "outputs": [],
   "source": [
    "genexp_pipeline = Pipeline([(\"filter\", ColumnTransformer(transformers=[(\"genexp\", StandardScaler(), genexp_idx), ],\n",
    "                                                         remainder=\"drop\")),\n",
    "                            (\"dim_red\", KernelPCA(random_state=15, kernel=\"rbf\", n_components=256)),\n",
    "                            (\"clf\", LogisticRegression(class_weight=\"balanced\", max_iter=1000, random_state=seed,\n",
    "                                                       C=10))])"
   ],
   "metadata": {
    "collapsed": false,
    "pycharm": {
     "name": "#%%\n"
    }
   }
  },
  {
   "cell_type": "code",
   "execution_count": 13,
   "outputs": [],
   "source": [
    "clf = VotingClassifier([(\"gpa\", gpa_pipeline), (\"snps\", snps_pipeline), (\"genexp\", genexp_pipeline)],\n",
    "                       voting=\"soft\", weights=[best_gpa[\"mean_test_score\"],\n",
    "                                               best_snps[\"mean_test_score\"],\n",
    "                                               best_genexp[\"mean_test_score\"]])"
   ],
   "metadata": {
    "collapsed": false,
    "pycharm": {
     "name": "#%%\n"
    }
   }
  },
  {
   "cell_type": "code",
   "execution_count": 14,
   "outputs": [
    {
     "data": {
      "text/plain": "VotingClassifier(estimators=[('gpa',\n                              Pipeline(steps=[('filter',\n                                               ColumnTransformer(transformers=[('gpa',\n                                                                                FunctionTransformer(check_inverse=False,\n                                                                                                    func=<function std_tf at 0x7fadf4be4e50>,\n                                                                                                    validate=True),\n                                                                                array([    0,     1,     2, ..., 16001, 16002, 16003]))])),\n                                              ('dim_red',\n                                               StabilitySelection(threshold=0.9)),\n                                              ('clf',\n                                               RandomForestClassifier(class_weight='balanced',\n                                                                      random_state=15...\n                                               ColumnTransformer(transformers=[('genexp',\n                                                                                StandardScaler(),\n                                                                                array([88239, 88240, 88241, ..., 94261, 94262, 94263]))])),\n                                              ('dim_red',\n                                               KernelPCA(kernel='rbf',\n                                                         n_components=256,\n                                                         random_state=15)),\n                                              ('clf',\n                                               LogisticRegression(C=10,\n                                                                  class_weight='balanced',\n                                                                  max_iter=1000,\n                                                                  random_state=15))]))],\n                 voting='soft',\n                 weights=[0.9269455544455544, 0.9088061938061938,\n                          0.905412087912088])",
      "text/html": "<style>#sk-container-id-1 {color: black;background-color: white;}#sk-container-id-1 pre{padding: 0;}#sk-container-id-1 div.sk-toggleable {background-color: white;}#sk-container-id-1 label.sk-toggleable__label {cursor: pointer;display: block;width: 100%;margin-bottom: 0;padding: 0.3em;box-sizing: border-box;text-align: center;}#sk-container-id-1 label.sk-toggleable__label-arrow:before {content: \"▸\";float: left;margin-right: 0.25em;color: #696969;}#sk-container-id-1 label.sk-toggleable__label-arrow:hover:before {color: black;}#sk-container-id-1 div.sk-estimator:hover label.sk-toggleable__label-arrow:before {color: black;}#sk-container-id-1 div.sk-toggleable__content {max-height: 0;max-width: 0;overflow: hidden;text-align: left;background-color: #f0f8ff;}#sk-container-id-1 div.sk-toggleable__content pre {margin: 0.2em;color: black;border-radius: 0.25em;background-color: #f0f8ff;}#sk-container-id-1 input.sk-toggleable__control:checked~div.sk-toggleable__content {max-height: 200px;max-width: 100%;overflow: auto;}#sk-container-id-1 input.sk-toggleable__control:checked~label.sk-toggleable__label-arrow:before {content: \"▾\";}#sk-container-id-1 div.sk-estimator input.sk-toggleable__control:checked~label.sk-toggleable__label {background-color: #d4ebff;}#sk-container-id-1 div.sk-label input.sk-toggleable__control:checked~label.sk-toggleable__label {background-color: #d4ebff;}#sk-container-id-1 input.sk-hidden--visually {border: 0;clip: rect(1px 1px 1px 1px);clip: rect(1px, 1px, 1px, 1px);height: 1px;margin: -1px;overflow: hidden;padding: 0;position: absolute;width: 1px;}#sk-container-id-1 div.sk-estimator {font-family: monospace;background-color: #f0f8ff;border: 1px dotted black;border-radius: 0.25em;box-sizing: border-box;margin-bottom: 0.5em;}#sk-container-id-1 div.sk-estimator:hover {background-color: #d4ebff;}#sk-container-id-1 div.sk-parallel-item::after {content: \"\";width: 100%;border-bottom: 1px solid gray;flex-grow: 1;}#sk-container-id-1 div.sk-label:hover label.sk-toggleable__label {background-color: #d4ebff;}#sk-container-id-1 div.sk-serial::before {content: \"\";position: absolute;border-left: 1px solid gray;box-sizing: border-box;top: 0;bottom: 0;left: 50%;z-index: 0;}#sk-container-id-1 div.sk-serial {display: flex;flex-direction: column;align-items: center;background-color: white;padding-right: 0.2em;padding-left: 0.2em;position: relative;}#sk-container-id-1 div.sk-item {position: relative;z-index: 1;}#sk-container-id-1 div.sk-parallel {display: flex;align-items: stretch;justify-content: center;background-color: white;position: relative;}#sk-container-id-1 div.sk-item::before, #sk-container-id-1 div.sk-parallel-item::before {content: \"\";position: absolute;border-left: 1px solid gray;box-sizing: border-box;top: 0;bottom: 0;left: 50%;z-index: -1;}#sk-container-id-1 div.sk-parallel-item {display: flex;flex-direction: column;z-index: 1;position: relative;background-color: white;}#sk-container-id-1 div.sk-parallel-item:first-child::after {align-self: flex-end;width: 50%;}#sk-container-id-1 div.sk-parallel-item:last-child::after {align-self: flex-start;width: 50%;}#sk-container-id-1 div.sk-parallel-item:only-child::after {width: 0;}#sk-container-id-1 div.sk-dashed-wrapped {border: 1px dashed gray;margin: 0 0.4em 0.5em 0.4em;box-sizing: border-box;padding-bottom: 0.4em;background-color: white;}#sk-container-id-1 div.sk-label label {font-family: monospace;font-weight: bold;display: inline-block;line-height: 1.2em;}#sk-container-id-1 div.sk-label-container {text-align: center;}#sk-container-id-1 div.sk-container {/* jupyter's `normalize.less` sets `[hidden] { display: none; }` but bootstrap.min.css set `[hidden] { display: none !important; }` so we also need the `!important` here to be able to override the default hidden behavior on the sphinx rendered scikit-learn.org. See: https://github.com/scikit-learn/scikit-learn/issues/21755 */display: inline-block !important;position: relative;}#sk-container-id-1 div.sk-text-repr-fallback {display: none;}</style><div id=\"sk-container-id-1\" class=\"sk-top-container\"><div class=\"sk-text-repr-fallback\"><pre>VotingClassifier(estimators=[(&#x27;gpa&#x27;,\n                              Pipeline(steps=[(&#x27;filter&#x27;,\n                                               ColumnTransformer(transformers=[(&#x27;gpa&#x27;,\n                                                                                FunctionTransformer(check_inverse=False,\n                                                                                                    func=&lt;function std_tf at 0x7fadf4be4e50&gt;,\n                                                                                                    validate=True),\n                                                                                array([    0,     1,     2, ..., 16001, 16002, 16003]))])),\n                                              (&#x27;dim_red&#x27;,\n                                               StabilitySelection(threshold=0.9)),\n                                              (&#x27;clf&#x27;,\n                                               RandomForestClassifier(class_weight=&#x27;balanced&#x27;,\n                                                                      random_state=15...\n                                               ColumnTransformer(transformers=[(&#x27;genexp&#x27;,\n                                                                                StandardScaler(),\n                                                                                array([88239, 88240, 88241, ..., 94261, 94262, 94263]))])),\n                                              (&#x27;dim_red&#x27;,\n                                               KernelPCA(kernel=&#x27;rbf&#x27;,\n                                                         n_components=256,\n                                                         random_state=15)),\n                                              (&#x27;clf&#x27;,\n                                               LogisticRegression(C=10,\n                                                                  class_weight=&#x27;balanced&#x27;,\n                                                                  max_iter=1000,\n                                                                  random_state=15))]))],\n                 voting=&#x27;soft&#x27;,\n                 weights=[0.9269455544455544, 0.9088061938061938,\n                          0.905412087912088])</pre><b>In a Jupyter environment, please rerun this cell to show the HTML representation or trust the notebook. <br />On GitHub, the HTML representation is unable to render, please try loading this page with nbviewer.org.</b></div><div class=\"sk-container\" hidden><div class=\"sk-item sk-dashed-wrapped\"><div class=\"sk-label-container\"><div class=\"sk-label sk-toggleable\"><input class=\"sk-toggleable__control sk-hidden--visually\" id=\"sk-estimator-id-1\" type=\"checkbox\" ><label for=\"sk-estimator-id-1\" class=\"sk-toggleable__label sk-toggleable__label-arrow\">VotingClassifier</label><div class=\"sk-toggleable__content\"><pre>VotingClassifier(estimators=[(&#x27;gpa&#x27;,\n                              Pipeline(steps=[(&#x27;filter&#x27;,\n                                               ColumnTransformer(transformers=[(&#x27;gpa&#x27;,\n                                                                                FunctionTransformer(check_inverse=False,\n                                                                                                    func=&lt;function std_tf at 0x7fadf4be4e50&gt;,\n                                                                                                    validate=True),\n                                                                                array([    0,     1,     2, ..., 16001, 16002, 16003]))])),\n                                              (&#x27;dim_red&#x27;,\n                                               StabilitySelection(threshold=0.9)),\n                                              (&#x27;clf&#x27;,\n                                               RandomForestClassifier(class_weight=&#x27;balanced&#x27;,\n                                                                      random_state=15...\n                                               ColumnTransformer(transformers=[(&#x27;genexp&#x27;,\n                                                                                StandardScaler(),\n                                                                                array([88239, 88240, 88241, ..., 94261, 94262, 94263]))])),\n                                              (&#x27;dim_red&#x27;,\n                                               KernelPCA(kernel=&#x27;rbf&#x27;,\n                                                         n_components=256,\n                                                         random_state=15)),\n                                              (&#x27;clf&#x27;,\n                                               LogisticRegression(C=10,\n                                                                  class_weight=&#x27;balanced&#x27;,\n                                                                  max_iter=1000,\n                                                                  random_state=15))]))],\n                 voting=&#x27;soft&#x27;,\n                 weights=[0.9269455544455544, 0.9088061938061938,\n                          0.905412087912088])</pre></div></div></div><div class=\"sk-parallel\"><div class=\"sk-parallel-item\"><div class=\"sk-item\"><div class=\"sk-label-container\"><div class=\"sk-label sk-toggleable\"><label>gpa</label></div></div><div class=\"sk-serial\"><div class=\"sk-item\"><div class=\"sk-serial\"><div class=\"sk-item sk-dashed-wrapped\"><div class=\"sk-label-container\"><div class=\"sk-label sk-toggleable\"><input class=\"sk-toggleable__control sk-hidden--visually\" id=\"sk-estimator-id-2\" type=\"checkbox\" ><label for=\"sk-estimator-id-2\" class=\"sk-toggleable__label sk-toggleable__label-arrow\">filter: ColumnTransformer</label><div class=\"sk-toggleable__content\"><pre>ColumnTransformer(transformers=[(&#x27;gpa&#x27;,\n                                 FunctionTransformer(check_inverse=False,\n                                                     func=&lt;function std_tf at 0x7fadf4be4e50&gt;,\n                                                     validate=True),\n                                 array([    0,     1,     2, ..., 16001, 16002, 16003]))])</pre></div></div></div><div class=\"sk-parallel\"><div class=\"sk-parallel-item\"><div class=\"sk-item\"><div class=\"sk-label-container\"><div class=\"sk-label sk-toggleable\"><input class=\"sk-toggleable__control sk-hidden--visually\" id=\"sk-estimator-id-3\" type=\"checkbox\" ><label for=\"sk-estimator-id-3\" class=\"sk-toggleable__label sk-toggleable__label-arrow\">gpa</label><div class=\"sk-toggleable__content\"><pre>[    0     1     2 ... 16001 16002 16003]</pre></div></div></div><div class=\"sk-serial\"><div class=\"sk-item\"><div class=\"sk-estimator sk-toggleable\"><input class=\"sk-toggleable__control sk-hidden--visually\" id=\"sk-estimator-id-4\" type=\"checkbox\" ><label for=\"sk-estimator-id-4\" class=\"sk-toggleable__label sk-toggleable__label-arrow\">FunctionTransformer</label><div class=\"sk-toggleable__content\"><pre>FunctionTransformer(check_inverse=False,\n                    func=&lt;function std_tf at 0x7fadf4be4e50&gt;, validate=True)</pre></div></div></div></div></div></div></div></div><div class=\"sk-item sk-dashed-wrapped\"><div class=\"sk-label-container\"><div class=\"sk-label sk-toggleable\"><input class=\"sk-toggleable__control sk-hidden--visually\" id=\"sk-estimator-id-5\" type=\"checkbox\" ><label for=\"sk-estimator-id-5\" class=\"sk-toggleable__label sk-toggleable__label-arrow\">dim_red: StabilitySelection</label><div class=\"sk-toggleable__content\"><pre>StabilitySelection(threshold=0.9)</pre></div></div></div><div class=\"sk-parallel\"><div class=\"sk-parallel-item\"><div class=\"sk-item\"><div class=\"sk-label-container\"><div class=\"sk-label sk-toggleable\"><input class=\"sk-toggleable__control sk-hidden--visually\" id=\"sk-estimator-id-6\" type=\"checkbox\" ><label for=\"sk-estimator-id-6\" class=\"sk-toggleable__label sk-toggleable__label-arrow\">estimator: LogisticRegression</label><div class=\"sk-toggleable__content\"><pre>LogisticRegression(class_weight=&#x27;balanced&#x27;, penalty=&#x27;l1&#x27;, random_state=15,\n                   solver=&#x27;liblinear&#x27;)</pre></div></div></div><div class=\"sk-serial\"><div class=\"sk-item\"><div class=\"sk-estimator sk-toggleable\"><input class=\"sk-toggleable__control sk-hidden--visually\" id=\"sk-estimator-id-7\" type=\"checkbox\" ><label for=\"sk-estimator-id-7\" class=\"sk-toggleable__label sk-toggleable__label-arrow\">LogisticRegression</label><div class=\"sk-toggleable__content\"><pre>LogisticRegression(class_weight=&#x27;balanced&#x27;, penalty=&#x27;l1&#x27;, random_state=15,\n                   solver=&#x27;liblinear&#x27;)</pre></div></div></div></div></div></div></div></div><div class=\"sk-item\"><div class=\"sk-estimator sk-toggleable\"><input class=\"sk-toggleable__control sk-hidden--visually\" id=\"sk-estimator-id-8\" type=\"checkbox\" ><label for=\"sk-estimator-id-8\" class=\"sk-toggleable__label sk-toggleable__label-arrow\">RandomForestClassifier</label><div class=\"sk-toggleable__content\"><pre>RandomForestClassifier(class_weight=&#x27;balanced&#x27;, random_state=15)</pre></div></div></div></div></div></div></div></div><div class=\"sk-parallel-item\"><div class=\"sk-item\"><div class=\"sk-label-container\"><div class=\"sk-label sk-toggleable\"><label>snps</label></div></div><div class=\"sk-serial\"><div class=\"sk-item\"><div class=\"sk-serial\"><div class=\"sk-item sk-dashed-wrapped\"><div class=\"sk-label-container\"><div class=\"sk-label sk-toggleable\"><input class=\"sk-toggleable__control sk-hidden--visually\" id=\"sk-estimator-id-9\" type=\"checkbox\" ><label for=\"sk-estimator-id-9\" class=\"sk-toggleable__label sk-toggleable__label-arrow\">filter: ColumnTransformer</label><div class=\"sk-toggleable__content\"><pre>ColumnTransformer(transformers=[(&#x27;snps&#x27;,\n                                 FunctionTransformer(check_inverse=False,\n                                                     func=&lt;function std_tf at 0x7fadf4be4e50&gt;,\n                                                     validate=True),\n                                 array([16004, 16005, 16006, ..., 88236, 88237, 88238]))])</pre></div></div></div><div class=\"sk-parallel\"><div class=\"sk-parallel-item\"><div class=\"sk-item\"><div class=\"sk-label-container\"><div class=\"sk-label sk-toggleable\"><input class=\"sk-toggleable__control sk-hidden--visually\" id=\"sk-estimator-id-10\" type=\"checkbox\" ><label for=\"sk-estimator-id-10\" class=\"sk-toggleable__label sk-toggleable__label-arrow\">snps</label><div class=\"sk-toggleable__content\"><pre>[16004 16005 16006 ... 88236 88237 88238]</pre></div></div></div><div class=\"sk-serial\"><div class=\"sk-item\"><div class=\"sk-estimator sk-toggleable\"><input class=\"sk-toggleable__control sk-hidden--visually\" id=\"sk-estimator-id-11\" type=\"checkbox\" ><label for=\"sk-estimator-id-11\" class=\"sk-toggleable__label sk-toggleable__label-arrow\">FunctionTransformer</label><div class=\"sk-toggleable__content\"><pre>FunctionTransformer(check_inverse=False,\n                    func=&lt;function std_tf at 0x7fadf4be4e50&gt;, validate=True)</pre></div></div></div></div></div></div></div></div><div class=\"sk-item\"><div class=\"sk-estimator sk-toggleable\"><input class=\"sk-toggleable__control sk-hidden--visually\" id=\"sk-estimator-id-12\" type=\"checkbox\" ><label for=\"sk-estimator-id-12\" class=\"sk-toggleable__label sk-toggleable__label-arrow\">KernelPCA</label><div class=\"sk-toggleable__content\"><pre>KernelPCA(kernel=&#x27;rbf&#x27;, n_components=128, random_state=15)</pre></div></div></div><div class=\"sk-item\"><div class=\"sk-estimator sk-toggleable\"><input class=\"sk-toggleable__control sk-hidden--visually\" id=\"sk-estimator-id-13\" type=\"checkbox\" ><label for=\"sk-estimator-id-13\" class=\"sk-toggleable__label sk-toggleable__label-arrow\">LogisticRegression</label><div class=\"sk-toggleable__content\"><pre>LogisticRegression(C=10, class_weight=&#x27;balanced&#x27;, max_iter=1000,\n                   random_state=15)</pre></div></div></div></div></div></div></div></div><div class=\"sk-parallel-item\"><div class=\"sk-item\"><div class=\"sk-label-container\"><div class=\"sk-label sk-toggleable\"><label>genexp</label></div></div><div class=\"sk-serial\"><div class=\"sk-item\"><div class=\"sk-serial\"><div class=\"sk-item sk-dashed-wrapped\"><div class=\"sk-label-container\"><div class=\"sk-label sk-toggleable\"><input class=\"sk-toggleable__control sk-hidden--visually\" id=\"sk-estimator-id-14\" type=\"checkbox\" ><label for=\"sk-estimator-id-14\" class=\"sk-toggleable__label sk-toggleable__label-arrow\">filter: ColumnTransformer</label><div class=\"sk-toggleable__content\"><pre>ColumnTransformer(transformers=[(&#x27;genexp&#x27;, StandardScaler(),\n                                 array([88239, 88240, 88241, ..., 94261, 94262, 94263]))])</pre></div></div></div><div class=\"sk-parallel\"><div class=\"sk-parallel-item\"><div class=\"sk-item\"><div class=\"sk-label-container\"><div class=\"sk-label sk-toggleable\"><input class=\"sk-toggleable__control sk-hidden--visually\" id=\"sk-estimator-id-15\" type=\"checkbox\" ><label for=\"sk-estimator-id-15\" class=\"sk-toggleable__label sk-toggleable__label-arrow\">genexp</label><div class=\"sk-toggleable__content\"><pre>[88239 88240 88241 ... 94261 94262 94263]</pre></div></div></div><div class=\"sk-serial\"><div class=\"sk-item\"><div class=\"sk-estimator sk-toggleable\"><input class=\"sk-toggleable__control sk-hidden--visually\" id=\"sk-estimator-id-16\" type=\"checkbox\" ><label for=\"sk-estimator-id-16\" class=\"sk-toggleable__label sk-toggleable__label-arrow\">StandardScaler</label><div class=\"sk-toggleable__content\"><pre>StandardScaler()</pre></div></div></div></div></div></div></div></div><div class=\"sk-item\"><div class=\"sk-estimator sk-toggleable\"><input class=\"sk-toggleable__control sk-hidden--visually\" id=\"sk-estimator-id-17\" type=\"checkbox\" ><label for=\"sk-estimator-id-17\" class=\"sk-toggleable__label sk-toggleable__label-arrow\">KernelPCA</label><div class=\"sk-toggleable__content\"><pre>KernelPCA(kernel=&#x27;rbf&#x27;, n_components=256, random_state=15)</pre></div></div></div><div class=\"sk-item\"><div class=\"sk-estimator sk-toggleable\"><input class=\"sk-toggleable__control sk-hidden--visually\" id=\"sk-estimator-id-18\" type=\"checkbox\" ><label for=\"sk-estimator-id-18\" class=\"sk-toggleable__label sk-toggleable__label-arrow\">LogisticRegression</label><div class=\"sk-toggleable__content\"><pre>LogisticRegression(C=10, class_weight=&#x27;balanced&#x27;, max_iter=1000,\n                   random_state=15)</pre></div></div></div></div></div></div></div></div></div></div></div></div>"
     },
     "execution_count": 14,
     "metadata": {},
     "output_type": "execute_result"
    }
   ],
   "source": [
    "clf"
   ],
   "metadata": {
    "collapsed": false,
    "pycharm": {
     "name": "#%%\n"
    }
   }
  },
  {
   "cell_type": "code",
   "execution_count": 15,
   "outputs": [],
   "source": [
    "res = cross_val_score(clf, np.concatenate([X_gpa, X_snps, X_genexp], axis=1), y, scoring=\"balanced_accuracy\",\n",
    "                      n_jobs=n_jobs)"
   ],
   "metadata": {
    "collapsed": false,
    "pycharm": {
     "name": "#%%\n"
    }
   }
  },
  {
   "cell_type": "code",
   "execution_count": 16,
   "outputs": [
    {
     "data": {
      "text/plain": "0.8913936063936063"
     },
     "execution_count": 16,
     "metadata": {},
     "output_type": "execute_result"
    }
   ],
   "source": [
    "res.mean()"
   ],
   "metadata": {
    "collapsed": false,
    "pycharm": {
     "name": "#%%\n"
    }
   }
  }
 ],
 "metadata": {
  "kernelspec": {
   "display_name": "Python 3",
   "language": "python",
   "name": "python3"
  },
  "language_info": {
   "codemirror_mode": {
    "name": "ipython",
    "version": 2
   },
   "file_extension": ".py",
   "mimetype": "text/x-python",
   "name": "python",
   "nbconvert_exporter": "python",
   "pygments_lexer": "ipython2",
   "version": "2.7.6"
  }
 },
 "nbformat": 4,
 "nbformat_minor": 0
}