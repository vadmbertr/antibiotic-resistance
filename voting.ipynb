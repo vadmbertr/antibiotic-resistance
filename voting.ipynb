{
 "cells": [
  {
   "cell_type": "code",
   "execution_count": 20,
   "outputs": [],
   "source": [
    "from itertools import combinations, product\n",
    "import os\n",
    "import pickle\n",
    "\n",
    "import joblib\n",
    "import numpy as np\n",
    "from sklearn.compose import ColumnTransformer\n",
    "from sklearn.decomposition import KernelPCA\n",
    "from sklearn.dummy import DummyClassifier\n",
    "from sklearn.ensemble import AdaBoostClassifier, GradientBoostingClassifier, RandomForestClassifier, VotingClassifier\n",
    "from sklearn.linear_model import LogisticRegression, SGDClassifier\n",
    "from sklearn.model_selection import GridSearchCV, ParameterGrid\n",
    "from sklearn.pipeline import Pipeline\n",
    "from sklearn.preprocessing import StandardScaler\n",
    "from sklearn.svm import SVC\n",
    "\n",
    "from custom_transformers.stability_selection import StabilitySelectionTransformer\n",
    "from custom_transformers.standard_true_false import standard_true_false"
   ],
   "metadata": {
    "collapsed": false,
    "pycharm": {
     "name": "#%%\n"
    }
   }
  },
  {
   "cell_type": "code",
   "execution_count": 14,
   "outputs": [],
   "source": [
    "seed = 15\n",
    "np.random.seed(seed)\n",
    "n_jobs = joblib.cpu_count() - 1"
   ],
   "metadata": {
    "collapsed": false,
    "pycharm": {
     "name": "#%%\n"
    }
   }
  },
  {
   "cell_type": "code",
   "execution_count": 15,
   "outputs": [],
   "source": [
    "def read_data(data_path):\n",
    "    with open(os.path.join(data_path, \"dataset.pkl\"), \"rb\") as f:\n",
    "        data = pickle.load(f)\n",
    "        Y = data[\"pheno\"].iloc[:, 1:]\n",
    "        X_gpa = data[\"X_gpa\"]\n",
    "        X_snps = data[\"X_snps\"]\n",
    "        X_genexp = data[\"X_genexp\"]\n",
    "\n",
    "    return X_gpa, X_snps, X_genexp, Y\n",
    "\n",
    "\n",
    "def _build_reg_pipeline(trans, idx):\n",
    "    trans_ind = ColumnTransformer(transformers=[\"ind\", trans, idx], remainder=\"drop\")\n",
    "    return Pipeline([(\"trans\", trans_ind), (\"dim_red\", \"passthrough\"), (\"clf\", DummyClassifier())])\n",
    "\n",
    "\n",
    "def get_voting_clf(X_gpa, X_snps, X_genexp):\n",
    "    gpa_idx = np.arange(0, X_gpa.shape[1] - 1)\n",
    "    snps_idx = np.arange(0, X_snps.shape[1] - 1) + gpa_idx[-1] + 1\n",
    "    genexp_idx = np.arange(0, X_genexp.shape[1] - 1) + snps_idx[-1] + 1\n",
    "\n",
    "    gpa_pipe = _build_reg_pipeline(standard_true_false, gpa_idx)\n",
    "    snps_pipe = _build_reg_pipeline(standard_true_false, snps_idx)\n",
    "    genexp_pipe = _build_reg_pipeline(StandardScaler(), genexp_idx)\n",
    "\n",
    "    return VotingClassifier([(\"gpa\", gpa_pipe), (\"snps\", snps_pipe), (\"genexp\", genexp_pipe)], voting=\"soft\")"
   ],
   "metadata": {
    "collapsed": false,
    "pycharm": {
     "name": "#%%\n"
    }
   }
  },
  {
   "cell_type": "code",
   "execution_count": 16,
   "outputs": [],
   "source": [
    "X_gpa, X_snps, X_genexp, Y = read_data(\".\")\n",
    "\n",
    "antibiotics = list(Y)\n",
    "antibiotic = antibiotics[0]\n",
    "\n",
    "y = Y[antibiotic].to_numpy()\n",
    "\n",
    "# there is no missing value in the regressors but there are in the target\n",
    "mask = np.isfinite(y)\n",
    "X_gpa = X_gpa[mask]\n",
    "X_snps = X_snps[mask]\n",
    "X_genexp = X_genexp[mask]\n",
    "y = y[mask].astype(int)"
   ],
   "metadata": {
    "collapsed": false,
    "pycharm": {
     "name": "#%%\n"
    }
   }
  },
  {
   "cell_type": "code",
   "execution_count": 17,
   "outputs": [],
   "source": [
    "clf = get_voting_clf(X_gpa, X_snps, X_genexp)"
   ],
   "metadata": {
    "collapsed": false,
    "pycharm": {
     "name": "#%%\n"
    }
   }
  },
  {
   "cell_type": "code",
   "execution_count": 18,
   "outputs": [
    {
     "data": {
      "text/plain": "VotingClassifier(estimators=[('gpa',\n                              Pipeline(steps=[('trans',\n                                               ColumnTransformer(transformers=['ind',\n                                                                               FunctionTransformer(check_inverse=False,\n                                                                                                   func=<function std_tf at 0x7fc0cbee93f0>,\n                                                                                                   validate=True),\n                                                                               array([    0,     1,     2, ..., 16001, 16002, 16003])])),\n                                              ('dim_red', 'passthrough'),\n                                              ('clf', DummyClassifier())])),\n                             ('snps',\n                              Pipeline(steps=[('trans',\n                                               ColumnTransformer(transformers...\n                                                                                                   func=<function std_tf at 0x7fc0cbee93f0>,\n                                                                                                   validate=True),\n                                                                               array([16004, 16005, 16006, ..., 88236, 88237, 88238])])),\n                                              ('dim_red', 'passthrough'),\n                                              ('clf', DummyClassifier())])),\n                             ('genexp',\n                              Pipeline(steps=[('trans',\n                                               ColumnTransformer(transformers=['ind',\n                                                                               StandardScaler(),\n                                                                               array([88239, 88240, 88241, ..., 94261, 94262, 94263])])),\n                                              ('dim_red', 'passthrough'),\n                                              ('clf', DummyClassifier())]))],\n                 voting='soft')",
      "text/html": "<style>#sk-container-id-3 {color: black;background-color: white;}#sk-container-id-3 pre{padding: 0;}#sk-container-id-3 div.sk-toggleable {background-color: white;}#sk-container-id-3 label.sk-toggleable__label {cursor: pointer;display: block;width: 100%;margin-bottom: 0;padding: 0.3em;box-sizing: border-box;text-align: center;}#sk-container-id-3 label.sk-toggleable__label-arrow:before {content: \"▸\";float: left;margin-right: 0.25em;color: #696969;}#sk-container-id-3 label.sk-toggleable__label-arrow:hover:before {color: black;}#sk-container-id-3 div.sk-estimator:hover label.sk-toggleable__label-arrow:before {color: black;}#sk-container-id-3 div.sk-toggleable__content {max-height: 0;max-width: 0;overflow: hidden;text-align: left;background-color: #f0f8ff;}#sk-container-id-3 div.sk-toggleable__content pre {margin: 0.2em;color: black;border-radius: 0.25em;background-color: #f0f8ff;}#sk-container-id-3 input.sk-toggleable__control:checked~div.sk-toggleable__content {max-height: 200px;max-width: 100%;overflow: auto;}#sk-container-id-3 input.sk-toggleable__control:checked~label.sk-toggleable__label-arrow:before {content: \"▾\";}#sk-container-id-3 div.sk-estimator input.sk-toggleable__control:checked~label.sk-toggleable__label {background-color: #d4ebff;}#sk-container-id-3 div.sk-label input.sk-toggleable__control:checked~label.sk-toggleable__label {background-color: #d4ebff;}#sk-container-id-3 input.sk-hidden--visually {border: 0;clip: rect(1px 1px 1px 1px);clip: rect(1px, 1px, 1px, 1px);height: 1px;margin: -1px;overflow: hidden;padding: 0;position: absolute;width: 1px;}#sk-container-id-3 div.sk-estimator {font-family: monospace;background-color: #f0f8ff;border: 1px dotted black;border-radius: 0.25em;box-sizing: border-box;margin-bottom: 0.5em;}#sk-container-id-3 div.sk-estimator:hover {background-color: #d4ebff;}#sk-container-id-3 div.sk-parallel-item::after {content: \"\";width: 100%;border-bottom: 1px solid gray;flex-grow: 1;}#sk-container-id-3 div.sk-label:hover label.sk-toggleable__label {background-color: #d4ebff;}#sk-container-id-3 div.sk-serial::before {content: \"\";position: absolute;border-left: 1px solid gray;box-sizing: border-box;top: 0;bottom: 0;left: 50%;z-index: 0;}#sk-container-id-3 div.sk-serial {display: flex;flex-direction: column;align-items: center;background-color: white;padding-right: 0.2em;padding-left: 0.2em;position: relative;}#sk-container-id-3 div.sk-item {position: relative;z-index: 1;}#sk-container-id-3 div.sk-parallel {display: flex;align-items: stretch;justify-content: center;background-color: white;position: relative;}#sk-container-id-3 div.sk-item::before, #sk-container-id-3 div.sk-parallel-item::before {content: \"\";position: absolute;border-left: 1px solid gray;box-sizing: border-box;top: 0;bottom: 0;left: 50%;z-index: -1;}#sk-container-id-3 div.sk-parallel-item {display: flex;flex-direction: column;z-index: 1;position: relative;background-color: white;}#sk-container-id-3 div.sk-parallel-item:first-child::after {align-self: flex-end;width: 50%;}#sk-container-id-3 div.sk-parallel-item:last-child::after {align-self: flex-start;width: 50%;}#sk-container-id-3 div.sk-parallel-item:only-child::after {width: 0;}#sk-container-id-3 div.sk-dashed-wrapped {border: 1px dashed gray;margin: 0 0.4em 0.5em 0.4em;box-sizing: border-box;padding-bottom: 0.4em;background-color: white;}#sk-container-id-3 div.sk-label label {font-family: monospace;font-weight: bold;display: inline-block;line-height: 1.2em;}#sk-container-id-3 div.sk-label-container {text-align: center;}#sk-container-id-3 div.sk-container {/* jupyter's `normalize.less` sets `[hidden] { display: none; }` but bootstrap.min.css set `[hidden] { display: none !important; }` so we also need the `!important` here to be able to override the default hidden behavior on the sphinx rendered scikit-learn.org. See: https://github.com/scikit-learn/scikit-learn/issues/21755 */display: inline-block !important;position: relative;}#sk-container-id-3 div.sk-text-repr-fallback {display: none;}</style><div id=\"sk-container-id-3\" class=\"sk-top-container\"><div class=\"sk-text-repr-fallback\"><pre>VotingClassifier(estimators=[(&#x27;gpa&#x27;,\n                              Pipeline(steps=[(&#x27;trans&#x27;,\n                                               ColumnTransformer(transformers=[&#x27;ind&#x27;,\n                                                                               FunctionTransformer(check_inverse=False,\n                                                                                                   func=&lt;function std_tf at 0x7fc0cbee93f0&gt;,\n                                                                                                   validate=True),\n                                                                               array([    0,     1,     2, ..., 16001, 16002, 16003])])),\n                                              (&#x27;dim_red&#x27;, &#x27;passthrough&#x27;),\n                                              (&#x27;clf&#x27;, DummyClassifier())])),\n                             (&#x27;snps&#x27;,\n                              Pipeline(steps=[(&#x27;trans&#x27;,\n                                               ColumnTransformer(transformers...\n                                                                                                   func=&lt;function std_tf at 0x7fc0cbee93f0&gt;,\n                                                                                                   validate=True),\n                                                                               array([16004, 16005, 16006, ..., 88236, 88237, 88238])])),\n                                              (&#x27;dim_red&#x27;, &#x27;passthrough&#x27;),\n                                              (&#x27;clf&#x27;, DummyClassifier())])),\n                             (&#x27;genexp&#x27;,\n                              Pipeline(steps=[(&#x27;trans&#x27;,\n                                               ColumnTransformer(transformers=[&#x27;ind&#x27;,\n                                                                               StandardScaler(),\n                                                                               array([88239, 88240, 88241, ..., 94261, 94262, 94263])])),\n                                              (&#x27;dim_red&#x27;, &#x27;passthrough&#x27;),\n                                              (&#x27;clf&#x27;, DummyClassifier())]))],\n                 voting=&#x27;soft&#x27;)</pre><b>In a Jupyter environment, please rerun this cell to show the HTML representation or trust the notebook. <br />On GitHub, the HTML representation is unable to render, please try loading this page with nbviewer.org.</b></div><div class=\"sk-container\" hidden><div class=\"sk-item sk-dashed-wrapped\"><div class=\"sk-label-container\"><div class=\"sk-label sk-toggleable\"><input class=\"sk-toggleable__control sk-hidden--visually\" id=\"sk-estimator-id-21\" type=\"checkbox\" ><label for=\"sk-estimator-id-21\" class=\"sk-toggleable__label sk-toggleable__label-arrow\">VotingClassifier</label><div class=\"sk-toggleable__content\"><pre>VotingClassifier(estimators=[(&#x27;gpa&#x27;,\n                              Pipeline(steps=[(&#x27;trans&#x27;,\n                                               ColumnTransformer(transformers=[&#x27;ind&#x27;,\n                                                                               FunctionTransformer(check_inverse=False,\n                                                                                                   func=&lt;function std_tf at 0x7fc0cbee93f0&gt;,\n                                                                                                   validate=True),\n                                                                               array([    0,     1,     2, ..., 16001, 16002, 16003])])),\n                                              (&#x27;dim_red&#x27;, &#x27;passthrough&#x27;),\n                                              (&#x27;clf&#x27;, DummyClassifier())])),\n                             (&#x27;snps&#x27;,\n                              Pipeline(steps=[(&#x27;trans&#x27;,\n                                               ColumnTransformer(transformers...\n                                                                                                   func=&lt;function std_tf at 0x7fc0cbee93f0&gt;,\n                                                                                                   validate=True),\n                                                                               array([16004, 16005, 16006, ..., 88236, 88237, 88238])])),\n                                              (&#x27;dim_red&#x27;, &#x27;passthrough&#x27;),\n                                              (&#x27;clf&#x27;, DummyClassifier())])),\n                             (&#x27;genexp&#x27;,\n                              Pipeline(steps=[(&#x27;trans&#x27;,\n                                               ColumnTransformer(transformers=[&#x27;ind&#x27;,\n                                                                               StandardScaler(),\n                                                                               array([88239, 88240, 88241, ..., 94261, 94262, 94263])])),\n                                              (&#x27;dim_red&#x27;, &#x27;passthrough&#x27;),\n                                              (&#x27;clf&#x27;, DummyClassifier())]))],\n                 voting=&#x27;soft&#x27;)</pre></div></div></div><div class=\"sk-parallel\"><div class=\"sk-parallel-item\"><div class=\"sk-item\"><div class=\"sk-label-container\"><div class=\"sk-label sk-toggleable\"><label>gpa</label></div></div><div class=\"sk-serial\"><div class=\"sk-item\"><div class=\"sk-serial\"><div class=\"sk-item\"><div class=\"sk-estimator sk-toggleable\"><input class=\"sk-toggleable__control sk-hidden--visually\" id=\"sk-estimator-id-22\" type=\"checkbox\" ><label for=\"sk-estimator-id-22\" class=\"sk-toggleable__label sk-toggleable__label-arrow\">ColumnTransformer</label><div class=\"sk-toggleable__content\"><pre>ColumnTransformer(transformers=[&#x27;ind&#x27;,\n                                FunctionTransformer(check_inverse=False,\n                                                    func=&lt;function std_tf at 0x7fc0cbee93f0&gt;,\n                                                    validate=True),\n                                array([    0,     1,     2, ..., 16001, 16002, 16003])])</pre></div></div></div><div class=\"sk-item\"><div class=\"sk-estimator sk-toggleable\"><input class=\"sk-toggleable__control sk-hidden--visually\" id=\"sk-estimator-id-23\" type=\"checkbox\" ><label for=\"sk-estimator-id-23\" class=\"sk-toggleable__label sk-toggleable__label-arrow\">passthrough</label><div class=\"sk-toggleable__content\"><pre>passthrough</pre></div></div></div><div class=\"sk-item\"><div class=\"sk-estimator sk-toggleable\"><input class=\"sk-toggleable__control sk-hidden--visually\" id=\"sk-estimator-id-24\" type=\"checkbox\" ><label for=\"sk-estimator-id-24\" class=\"sk-toggleable__label sk-toggleable__label-arrow\">DummyClassifier</label><div class=\"sk-toggleable__content\"><pre>DummyClassifier()</pre></div></div></div></div></div></div></div></div><div class=\"sk-parallel-item\"><div class=\"sk-item\"><div class=\"sk-label-container\"><div class=\"sk-label sk-toggleable\"><label>snps</label></div></div><div class=\"sk-serial\"><div class=\"sk-item\"><div class=\"sk-serial\"><div class=\"sk-item\"><div class=\"sk-estimator sk-toggleable\"><input class=\"sk-toggleable__control sk-hidden--visually\" id=\"sk-estimator-id-25\" type=\"checkbox\" ><label for=\"sk-estimator-id-25\" class=\"sk-toggleable__label sk-toggleable__label-arrow\">ColumnTransformer</label><div class=\"sk-toggleable__content\"><pre>ColumnTransformer(transformers=[&#x27;ind&#x27;,\n                                FunctionTransformer(check_inverse=False,\n                                                    func=&lt;function std_tf at 0x7fc0cbee93f0&gt;,\n                                                    validate=True),\n                                array([16004, 16005, 16006, ..., 88236, 88237, 88238])])</pre></div></div></div><div class=\"sk-item\"><div class=\"sk-estimator sk-toggleable\"><input class=\"sk-toggleable__control sk-hidden--visually\" id=\"sk-estimator-id-26\" type=\"checkbox\" ><label for=\"sk-estimator-id-26\" class=\"sk-toggleable__label sk-toggleable__label-arrow\">passthrough</label><div class=\"sk-toggleable__content\"><pre>passthrough</pre></div></div></div><div class=\"sk-item\"><div class=\"sk-estimator sk-toggleable\"><input class=\"sk-toggleable__control sk-hidden--visually\" id=\"sk-estimator-id-27\" type=\"checkbox\" ><label for=\"sk-estimator-id-27\" class=\"sk-toggleable__label sk-toggleable__label-arrow\">DummyClassifier</label><div class=\"sk-toggleable__content\"><pre>DummyClassifier()</pre></div></div></div></div></div></div></div></div><div class=\"sk-parallel-item\"><div class=\"sk-item\"><div class=\"sk-label-container\"><div class=\"sk-label sk-toggleable\"><label>genexp</label></div></div><div class=\"sk-serial\"><div class=\"sk-item\"><div class=\"sk-serial\"><div class=\"sk-item\"><div class=\"sk-estimator sk-toggleable\"><input class=\"sk-toggleable__control sk-hidden--visually\" id=\"sk-estimator-id-28\" type=\"checkbox\" ><label for=\"sk-estimator-id-28\" class=\"sk-toggleable__label sk-toggleable__label-arrow\">ColumnTransformer</label><div class=\"sk-toggleable__content\"><pre>ColumnTransformer(transformers=[&#x27;ind&#x27;, StandardScaler(),\n                                array([88239, 88240, 88241, ..., 94261, 94262, 94263])])</pre></div></div></div><div class=\"sk-item\"><div class=\"sk-estimator sk-toggleable\"><input class=\"sk-toggleable__control sk-hidden--visually\" id=\"sk-estimator-id-29\" type=\"checkbox\" ><label for=\"sk-estimator-id-29\" class=\"sk-toggleable__label sk-toggleable__label-arrow\">passthrough</label><div class=\"sk-toggleable__content\"><pre>passthrough</pre></div></div></div><div class=\"sk-item\"><div class=\"sk-estimator sk-toggleable\"><input class=\"sk-toggleable__control sk-hidden--visually\" id=\"sk-estimator-id-30\" type=\"checkbox\" ><label for=\"sk-estimator-id-30\" class=\"sk-toggleable__label sk-toggleable__label-arrow\">DummyClassifier</label><div class=\"sk-toggleable__content\"><pre>DummyClassifier()</pre></div></div></div></div></div></div></div></div></div></div></div></div>"
     },
     "execution_count": 18,
     "metadata": {},
     "output_type": "execute_result"
    }
   ],
   "source": [
    "clf"
   ],
   "metadata": {
    "collapsed": false,
    "pycharm": {
     "name": "#%%\n"
    }
   }
  },
  {
   "cell_type": "code",
   "execution_count": 37,
   "outputs": [],
   "source": [
    "def _get_stab_sel_trans(stab_sel_path):\n",
    "    stab_sel_trans = None\n",
    "\n",
    "    if os.path.exists(stab_sel_path):\n",
    "        with open(stab_sel_path, \"rb\") as f:\n",
    "            stability_scores = pickle.load(f)\n",
    "        stab_sel_trans = StabilitySelectionTransformer(stability_scores=stability_scores)\n",
    "\n",
    "    return stab_sel_trans\n",
    "\n",
    "\n",
    "def _create_grid(roots, params):\n",
    "    def add_to_grid(g, r, p):\n",
    "        if len(p[0]) > 0:\n",
    "            r = \"__\".join([r, p[0]])\n",
    "        g[r] = p[1]\n",
    "        for c in p[2]:\n",
    "            add_to_grid(g, r, c)\n",
    "\n",
    "    grids = []\n",
    "    for comb in combinations(product(roots, params), len(roots)):\n",
    "        valid = True\n",
    "        grid = {}\n",
    "        for root, param in comb:\n",
    "            if root in grid:\n",
    "                valid = False\n",
    "                break\n",
    "            else:\n",
    "                add_to_grid(grid, root, param)\n",
    "        if valid:\n",
    "            grids.append(grid)\n",
    "    return grids\n",
    "\n",
    "\n",
    "def _merge_grids(grids):\n",
    "    merged_grid = grids.pop()\n",
    "    for grid in grids:\n",
    "        merged_grid = [{**g1, **g2} for g1, g2 in product(merged_grid, grid)]\n",
    "    return merged_grid\n",
    "\n",
    "\n",
    "def _build_reg_grid(prefix, seed, stab_sel_path):\n",
    "    dim_red_grid_roots = [\"{}__dim_red\".format(prefix)]\n",
    "    dim_red_grid_params = [(\"\", [\"passthrough\", ], []),\n",
    "                           (\"\", [KernelPCA(random_state=seed), ],\n",
    "                            [(\"kernel\", [\"linear\", \"poly\", \"rbf\", \"sigmoid\"], []),\n",
    "                             (\"n_components\", [64, 128, 256], [])])]\n",
    "    stab_sel_trans = _get_stab_sel_trans(stab_sel_path)\n",
    "    if stab_sel_trans is not None:\n",
    "        dim_red_grid_params.append((\"\", [stab_sel_trans, ], [(\"threshold\", np.linspace(.6, .9, 4), [])]))\n",
    "    dim_red_grid = _create_grid(dim_red_grid_roots, dim_red_grid_params)\n",
    "\n",
    "    clf_grid_roots = [\"{}__clf\".format(prefix)]\n",
    "    clf_grid_params = [(\"\", [AdaBoostClassifier(random_state=seed), GradientBoostingClassifier(random_state=seed)],\n",
    "                        [(\"learning_rate\", np.logspace(-2, 0, 3), [])]),\n",
    "                       (\"\", [RandomForestClassifier(class_weight=\"balanced\", random_state=seed)],\n",
    "                        [(\"n_estimators\", [100, 300, 500], []), (\"max_depth\", [None, 10, 100], []),\n",
    "                         (\"max_features\", [\"sqrt\", \"log2\"], [])]),\n",
    "                       (\"\", [LogisticRegression(penalty=\"l1\", solver=\"liblinear\", class_weight=\"balanced\",\n",
    "                                                max_iter=1000, random_state=seed)],\n",
    "                        [(\"C\", np.logspace(-1, 1, 3), [])]),\n",
    "                       (\"\", [SGDClassifier(penalty=\"l1\", class_weight=\"balanced\", random_state=seed)],\n",
    "                        [(\"loss\", [\"hinge\", \"log_loss\"], []), (\"alpha\", np.logspace(-5, -3, 3), [])]),\n",
    "                       (\"\", [SVC(class_weight=\"balanced\", max_iter=10000, random_state=seed)],\n",
    "                        [(\"C\", np.logspace(-1, 1, 3), []), (\"kernel\", [\"linear\", \"poly\", \"rbf\", \"sigmoid\"], [])])]\n",
    "    clf_grid = _create_grid(clf_grid_roots, clf_grid_params)\n",
    "\n",
    "    return _merge_grids([dim_red_grid, clf_grid])\n",
    "\n",
    "\n",
    "def build_hp_grid(clf, seed, n_jobs, stab_sel_path):\n",
    "    gpa_grid = _build_reg_grid(\"gpa\", seed, stab_sel_path)\n",
    "    nsps_grid = _build_reg_grid(\"nsps\", seed, stab_sel_path)\n",
    "    genepx_grid = _build_reg_grid(\"genepx\", seed, stab_sel_path)\n",
    "\n",
    "    final_grid = _merge_grids([gpa_grid, nsps_grid, genepx_grid])\n",
    "    cv_grid = GridSearchCV(clf, final_grid, scoring=\"balanced_accuracy\", n_jobs=n_jobs, verbose=2)\n",
    "\n",
    "    return cv_grid, final_grid"
   ],
   "metadata": {
    "collapsed": false,
    "pycharm": {
     "name": "#%%\n"
    }
   }
  },
  {
   "cell_type": "code",
   "execution_count": 41,
   "outputs": [
    {
     "data": {
      "text/plain": "200201625"
     },
     "execution_count": 41,
     "metadata": {},
     "output_type": "execute_result"
    }
   ],
   "source": [
    "len(ParameterGrid(build_hp_grid(clf, seed, n_jobs, \"\")[1]))"
   ],
   "metadata": {
    "collapsed": false,
    "pycharm": {
     "name": "#%%\n"
    }
   }
  }
 ],
 "metadata": {
  "kernelspec": {
   "display_name": "Python 3",
   "language": "python",
   "name": "python3"
  },
  "language_info": {
   "codemirror_mode": {
    "name": "ipython",
    "version": 2
   },
   "file_extension": ".py",
   "mimetype": "text/x-python",
   "name": "python",
   "nbconvert_exporter": "python",
   "pygments_lexer": "ipython2",
   "version": "2.7.6"
  }
 },
 "nbformat": 4,
 "nbformat_minor": 0
}