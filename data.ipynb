{
 "cells": [
  {
   "cell_type": "code",
   "execution_count": 12,
   "outputs": [],
   "source": [
    "import pickle\n",
    "\n",
    "import pandas as pd"
   ],
   "metadata": {
    "collapsed": false,
    "pycharm": {
     "name": "#%%\n"
    }
   }
  },
  {
   "cell_type": "code",
   "execution_count": 2,
   "outputs": [],
   "source": [
    "with open(\"dataset.pkl\", \"rb\") as f:\n",
    "    DATA = pickle.load(f)\n",
    "    pheno = DATA[\"pheno\"]\n",
    "    X_gpa = DATA[\"X_gpa\"]\n",
    "    X_snps = DATA[\"X_snps\"]\n",
    "    X_genexp = DATA[\"X_genexp\"]"
   ],
   "metadata": {
    "collapsed": false,
    "pycharm": {
     "name": "#%%\n"
    }
   }
  },
  {
   "cell_type": "code",
   "execution_count": 3,
   "outputs": [
    {
     "data": {
      "text/plain": "       strain_ids  Tobramycin  Ceftazidim  Ciprofloxacin  Meropenem  Colistin\n0      CF592_Iso2         0.0         1.0            0.0        NaN         0\n1      CF609_Iso3         NaN         1.0            0.0        1.0         0\n2          CH2500         0.0         0.0            1.0        0.0         0\n3          CH2502         0.0         NaN            NaN        1.0         0\n4          CH2522         0.0         1.0            NaN        NaN         1\n..            ...         ...         ...            ...        ...       ...\n409     ZG5089456         1.0         1.0            1.0        1.0         0\n410     ZG8006959         1.0         1.0            1.0        1.0         0\n411  ZG8038581181         1.0         1.0            1.0        1.0         0\n412     ZG8510487         1.0         1.0            1.0        1.0         0\n413     ZG8525123         1.0         1.0            1.0        1.0         0\n\n[414 rows x 6 columns]",
      "text/html": "<div>\n<style scoped>\n    .dataframe tbody tr th:only-of-type {\n        vertical-align: middle;\n    }\n\n    .dataframe tbody tr th {\n        vertical-align: top;\n    }\n\n    .dataframe thead th {\n        text-align: right;\n    }\n</style>\n<table border=\"1\" class=\"dataframe\">\n  <thead>\n    <tr style=\"text-align: right;\">\n      <th></th>\n      <th>strain_ids</th>\n      <th>Tobramycin</th>\n      <th>Ceftazidim</th>\n      <th>Ciprofloxacin</th>\n      <th>Meropenem</th>\n      <th>Colistin</th>\n    </tr>\n  </thead>\n  <tbody>\n    <tr>\n      <th>0</th>\n      <td>CF592_Iso2</td>\n      <td>0.0</td>\n      <td>1.0</td>\n      <td>0.0</td>\n      <td>NaN</td>\n      <td>0</td>\n    </tr>\n    <tr>\n      <th>1</th>\n      <td>CF609_Iso3</td>\n      <td>NaN</td>\n      <td>1.0</td>\n      <td>0.0</td>\n      <td>1.0</td>\n      <td>0</td>\n    </tr>\n    <tr>\n      <th>2</th>\n      <td>CH2500</td>\n      <td>0.0</td>\n      <td>0.0</td>\n      <td>1.0</td>\n      <td>0.0</td>\n      <td>0</td>\n    </tr>\n    <tr>\n      <th>3</th>\n      <td>CH2502</td>\n      <td>0.0</td>\n      <td>NaN</td>\n      <td>NaN</td>\n      <td>1.0</td>\n      <td>0</td>\n    </tr>\n    <tr>\n      <th>4</th>\n      <td>CH2522</td>\n      <td>0.0</td>\n      <td>1.0</td>\n      <td>NaN</td>\n      <td>NaN</td>\n      <td>1</td>\n    </tr>\n    <tr>\n      <th>...</th>\n      <td>...</td>\n      <td>...</td>\n      <td>...</td>\n      <td>...</td>\n      <td>...</td>\n      <td>...</td>\n    </tr>\n    <tr>\n      <th>409</th>\n      <td>ZG5089456</td>\n      <td>1.0</td>\n      <td>1.0</td>\n      <td>1.0</td>\n      <td>1.0</td>\n      <td>0</td>\n    </tr>\n    <tr>\n      <th>410</th>\n      <td>ZG8006959</td>\n      <td>1.0</td>\n      <td>1.0</td>\n      <td>1.0</td>\n      <td>1.0</td>\n      <td>0</td>\n    </tr>\n    <tr>\n      <th>411</th>\n      <td>ZG8038581181</td>\n      <td>1.0</td>\n      <td>1.0</td>\n      <td>1.0</td>\n      <td>1.0</td>\n      <td>0</td>\n    </tr>\n    <tr>\n      <th>412</th>\n      <td>ZG8510487</td>\n      <td>1.0</td>\n      <td>1.0</td>\n      <td>1.0</td>\n      <td>1.0</td>\n      <td>0</td>\n    </tr>\n    <tr>\n      <th>413</th>\n      <td>ZG8525123</td>\n      <td>1.0</td>\n      <td>1.0</td>\n      <td>1.0</td>\n      <td>1.0</td>\n      <td>0</td>\n    </tr>\n  </tbody>\n</table>\n<p>414 rows × 6 columns</p>\n</div>"
     },
     "execution_count": 3,
     "metadata": {},
     "output_type": "execute_result"
    }
   ],
   "source": [
    "pheno"
   ],
   "metadata": {
    "collapsed": false,
    "pycharm": {
     "name": "#%%\n"
    }
   }
  },
  {
   "cell_type": "code",
   "execution_count": 4,
   "outputs": [
    {
     "data": {
      "text/plain": "strain_ids        0\nTobramycin        8\nCeftazidim       80\nCiprofloxacin    56\nMeropenem        60\nColistin          0\ndtype: int64"
     },
     "execution_count": 4,
     "metadata": {},
     "output_type": "execute_result"
    }
   ],
   "source": [
    "pheno.isna().sum()"
   ],
   "metadata": {
    "collapsed": false,
    "pycharm": {
     "name": "#%%\n"
    }
   }
  },
  {
   "cell_type": "code",
   "execution_count": 15,
   "outputs": [
    {
     "data": {
      "text/plain": "array([[0., 0., 0., ..., 0., 1., 0.],\n       [0., 0., 0., ..., 0., 0., 0.],\n       [0., 0., 0., ..., 0., 0., 0.],\n       ...,\n       [0., 0., 0., ..., 0., 0., 0.],\n       [1., 0., 0., ..., 1., 0., 0.],\n       [1., 0., 0., ..., 1., 0., 0.]])"
     },
     "execution_count": 15,
     "metadata": {},
     "output_type": "execute_result"
    }
   ],
   "source": [
    "X_gpa"
   ],
   "metadata": {
    "collapsed": false,
    "pycharm": {
     "name": "#%%\n"
    }
   }
  },
  {
   "cell_type": "code",
   "execution_count": 8,
   "outputs": [
    {
     "data": {
      "text/plain": "array([[False, False, False, ...,  True,  True,  True],\n       [False, False, False, ...,  True,  True,  True],\n       [False, False, False, ...,  True,  True,  True],\n       ...,\n       [False, False, False, ...,  True, False,  True],\n       [False,  True,  True, ...,  True,  True,  True],\n       [ True, False,  True, ...,  True,  True,  True]])"
     },
     "execution_count": 8,
     "metadata": {},
     "output_type": "execute_result"
    }
   ],
   "source": [
    "X_snps"
   ],
   "metadata": {
    "collapsed": false,
    "pycharm": {
     "name": "#%%\n"
    }
   }
  },
  {
   "cell_type": "code",
   "execution_count": 7,
   "outputs": [
    {
     "data": {
      "text/plain": "array([[-1.12876069, -0.81779089, -1.69142345, ...,  1.02347764,\n        -1.15085433,  0.24994568],\n       [-1.12876069, -0.35287294, -2.53190989, ..., -0.99980795,\n        -1.18807964, -1.2716658 ],\n       [ 0.26680539, -0.39662847, -0.95591998, ..., -0.22666416,\n         0.18241751, -0.3702671 ],\n       ...,\n       [-0.43097765, -0.58287845, -0.99612165, ...,  0.35819654,\n         0.37939308, -0.3702671 ],\n       [ 1.45334338,  0.56409601,  1.02908939, ...,  0.2692959 ,\n         0.06217161,  0.87786711],\n       [-0.43097765,  0.34107776,  1.38943538, ..., -0.22666416,\n         0.56298516,  0.56676242]])"
     },
     "execution_count": 7,
     "metadata": {},
     "output_type": "execute_result"
    }
   ],
   "source": [
    "X_genexp"
   ],
   "metadata": {
    "collapsed": false,
    "pycharm": {
     "name": "#%%\n"
    }
   }
  }
 ],
 "metadata": {
  "kernelspec": {
   "display_name": "Python 3",
   "language": "python",
   "name": "python3"
  },
  "language_info": {
   "codemirror_mode": {
    "name": "ipython",
    "version": 2
   },
   "file_extension": ".py",
   "mimetype": "text/x-python",
   "name": "python",
   "nbconvert_exporter": "python",
   "pygments_lexer": "ipython2",
   "version": "2.7.6"
  }
 },
 "nbformat": 4,
 "nbformat_minor": 0
}